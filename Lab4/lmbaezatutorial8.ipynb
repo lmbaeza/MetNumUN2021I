{
  "nbformat": 4,
  "nbformat_minor": 0,
  "metadata": {
    "colab": {
      "name": "lmbaeza-tutorial8.ipynb",
      "provenance": []
    },
    "kernelspec": {
      "name": "python3",
      "display_name": "Python 3"
    },
    "language_info": {
      "name": "python"
    }
  },
  "cells": [
    {
      "cell_type": "markdown",
      "metadata": {
        "id": "caj-3Zo-T3dM"
      },
      "source": [
        "\n",
        "# Laboratorio 4\n",
        "\n",
        "### Tutorial 8 Confidence Interval and Hypothesis Testing\n",
        "\n",
        "**Universidad Nacional de Colombia - Sede Bogotá**\n",
        "\n",
        " _**Metodos Numericos**_\n",
        "\n",
        " **Docente:**   \n",
        "German Jairo Hernandez Perez\n",
        "\n",
        " **Estudiante:** Luis Miguel Báez Aponte - lmbaeza@unal.edu.co"
      ]
    },
    {
      "cell_type": "markdown",
      "metadata": {
        "id": "TlSNRMjLT_c6"
      },
      "source": [
        "\n",
        "**Elegir la version 3.7 de python**"
      ]
    },
    {
      "cell_type": "code",
      "metadata": {
        "id": "6sphGfwgTx68"
      },
      "source": [
        "#!/usr/bin/env python3.7"
      ],
      "execution_count": 1,
      "outputs": []
    },
    {
      "cell_type": "code",
      "metadata": {
        "id": "qnV8RD7xUF0q"
      },
      "source": [
        "import matplotlib.pyplot as plt\n",
        "import numpy as np\n",
        "import pandas as pd\n",
        "from datetime import datetime\n",
        "\n",
        "qb = QuantBook()\n",
        "spy = qb.AddEquity(\"SPY\").Symbol\n",
        "\n",
        "# get SPY data from August 2010 to the present\n",
        "start_date = datetime(2010, 8, 1, 0, 0, 0)\n",
        "end_date = qb.Time\n",
        "spy_table = qb.History(spy, start_date, end_date, Resolution.Daily)\n",
        "\n",
        "spy_total = spy_table[['open','close']]\n",
        "#calculate log returns\n",
        "spy_log_return = np.log(spy_total.close).diff().dropna()\n",
        "print('Population mean:', np.mean(spy_log_return))\n",
        "print('Population standard deviation:',np.std(spy_log_return))"
      ],
      "execution_count": 9,
      "outputs": []
    },
    {
      "cell_type": "code",
      "metadata": {
        "id": "2GmsEmtgVhCQ"
      },
      "source": [
        "print('10 days sample returns:', np.mean(spy_log_return.tail(10)))\n",
        "print('10 days sample standard deviation:', np.std(spy_log_return.tail(10)))\n",
        "print('1000 days sample returns:', np.mean(spy_log_return.tail(1000)))\n",
        "print('1000 days sample standard deviation:', np.std(spy_log_return.tail(1000)))"
      ],
      "execution_count": 10,
      "outputs": []
    },
    {
      "cell_type": "code",
      "metadata": {
        "id": "LWouGTZGVj6m"
      },
      "source": [
        "bottom_1 = np.mean(spy_log_return.tail(10))-1.96*np.std(spy_log_return.tail(10))/(np.sqrt(len((spy_log_return.tail(10)))))\n",
        "upper_1 = np.mean(spy_log_return.tail(10))+1.96*np.std(spy_log_return.tail(10))/(np.sqrt(len((spy_log_return.tail(10)))))\n",
        "bottom_2 = np.mean(spy_log_return.tail(1000))-1.96*np.std(spy_log_return.tail(1000))/(np.sqrt(len((spy_log_return.tail(1000)))))\n",
        "upper_2 = np.mean(spy_log_return.tail(1000))+1.96*np.std(spy_log_return.tail(1000))/(np.sqrt(len((spy_log_return.tail(1000)))))\n",
        "#print the outcomes\n",
        "print('10 days 95% confidence inverval:', (bottom_1,upper_1))\n",
        "print('1000 days 95% confidence inverval:', (bottom_2,upper_2))"
      ],
      "execution_count": 11,
      "outputs": []
    },
    {
      "cell_type": "code",
      "metadata": {
        "id": "F7LCIrDMVnG_"
      },
      "source": [
        "mean_1000 = np.mean(spy_log_return.tail(1000))\n",
        "std_1000 = np.std(spy_log_return.tail(1000))\n",
        "mean_10 = np.mean(spy_log_return.tail(10))\n",
        "std_10 = np.std(spy_log_return.tail(10))\n",
        "s = pd.Series([mean_10,std_10,mean_1000,std_1000],index = ['mean_10', 'std_10','mean_1000','std_1000'])\n",
        "print(s)"
      ],
      "execution_count": 12,
      "outputs": []
    },
    {
      "cell_type": "code",
      "metadata": {
        "id": "ohlZClrGVpMO"
      },
      "source": [
        "bottom = 0 - 1.64*std_1000/np.sqrt(1000)\n",
        "upper = 0 + 1.64*std_1000/np.sqrt(1000)\n",
        "print((bottom, upper))"
      ],
      "execution_count": 13,
      "outputs": []
    },
    {
      "cell_type": "code",
      "metadata": {
        "id": "T6mGjF1dVqj9"
      },
      "source": [
        "bottom = 0 - 1.96*std_1000/np.sqrt(1000)\n",
        "upper = 0 + 1.96*std_1000/np.sqrt(1000)\n",
        "print((bottom, upper))"
      ],
      "execution_count": 14,
      "outputs": []
    },
    {
      "cell_type": "code",
      "metadata": {
        "id": "X3PMnmSFVsTW"
      },
      "source": [
        "print(np.sqrt(1000)*(mean_1000 - 0)/std_1000)"
      ],
      "execution_count": 15,
      "outputs": []
    },
    {
      "cell_type": "code",
      "metadata": {
        "id": "XtlWUOCQVv09"
      },
      "source": [
        "import scipy.stats as st\n",
        "print((1 - st.norm.cdf(1.9488)))"
      ],
      "execution_count": 16,
      "outputs": []
    },
    {
      "cell_type": "code",
      "metadata": {
        "id": "EANiPUSmVze0"
      },
      "source": [
        "mean_1200 = np.mean(spy_log_return.tail(1200))\n",
        "std_1200 = np.std(spy_log_return.tail(1200))\n",
        "z_score = np.sqrt(1200)*(mean_1200 - 0)/std_1200\n",
        "print('z-score = ',z_score)\n",
        "p_value = (1 - st.norm.cdf(z_score))\n",
        "print('p_value = ',p_value)"
      ],
      "execution_count": 17,
      "outputs": []
    }
  ]
}