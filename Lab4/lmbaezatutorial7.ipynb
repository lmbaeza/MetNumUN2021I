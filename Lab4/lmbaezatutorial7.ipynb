{
  "nbformat": 4,
  "nbformat_minor": 0,
  "metadata": {
    "colab": {
      "name": "lmbaeza-tutorial7.ipynb",
      "provenance": []
    },
    "kernelspec": {
      "name": "python3",
      "display_name": "Python 3"
    },
    "language_info": {
      "name": "python"
    }
  },
  "cells": [
    {
      "cell_type": "markdown",
      "metadata": {
        "id": "pakUtrc3R65t"
      },
      "source": [
        "\n",
        "# Laboratorio 4\n",
        "\n",
        "### Tutorial 7 Rate of Return, Mean and Variance\n",
        "\n",
        "**Universidad Nacional de Colombia - Sede Bogotá**\n",
        "\n",
        " _**Metodos Numericos**_\n",
        "\n",
        " **Docente:**   \n",
        "German Jairo Hernandez Perez\n",
        "\n",
        " **Estudiante:** Luis Miguel Báez Aponte - lmbaeza@unal.edu.co"
      ]
    },
    {
      "cell_type": "markdown",
      "metadata": {
        "id": "dfuwjrKOR_ph"
      },
      "source": [
        "\n",
        "**Elegir la version 3.7 de python**"
      ]
    },
    {
      "cell_type": "code",
      "metadata": {
        "id": "CK0OIl23R390"
      },
      "source": [
        "#!/usr/bin/env python3.7"
      ],
      "execution_count": 1,
      "outputs": []
    },
    {
      "cell_type": "code",
      "metadata": {
        "colab": {
          "base_uri": "https://localhost:8080/"
        },
        "id": "6Z3Ugqy0SKrX",
        "outputId": "2504b575-a663-4b59-ceeb-6d9bebcb7c46"
      },
      "source": [
        "import random\n",
        "import matplotlib.pyplot as plt\n",
        "import numpy as np\n",
        "import pandas as pd\n",
        "#define a function to simulate rolling a dice\n",
        "def dice():\n",
        "    number=  [1,2,3,4,5,6]\n",
        "    return random.choice(number)\n",
        "\n",
        "series = np.array([dice() for x in range(10000)])\n",
        "print(series)"
      ],
      "execution_count": 2,
      "outputs": [
        {
          "output_type": "stream",
          "text": [
            "[2 5 4 ... 4 1 5]\n"
          ],
          "name": "stdout"
        }
      ]
    },
    {
      "cell_type": "code",
      "metadata": {
        "colab": {
          "base_uri": "https://localhost:8080/",
          "height": 606
        },
        "id": "tPW9xVyvSL8w",
        "outputId": "d802197d-8642-48fb-db97-ae83bd7654d2"
      },
      "source": [
        "plt.figure(figsize = (20,10))\n",
        "plt.hist(series,bins = 11,align = 'mid')\n",
        "plt.xlabel('Dice Number')\n",
        "plt.ylabel('Occurences')\n",
        "plt.grid()\n",
        "plt.show()"
      ],
      "execution_count": 3,
      "outputs": [
        {
          "output_type": "display_data",
          "data": {
            "image/png": "[encoded data removed]",
            "text/plain": [
              "<Figure size 1440x720 with 1 Axes>"
            ]
          },
          "metadata": {
            "tags": [],
            "needs_background": "light"
          }
        }
      ]
    },
    {
      "cell_type": "code",
      "metadata": {
        "colab": {
          "base_uri": "https://localhost:8080/"
        },
        "id": "BksoR4B3SNWH",
        "outputId": "c72a0cf9-10f4-4a6c-a92d-21709479d224"
      },
      "source": [
        "print(len([x for x in series if x <= 3])/float(len(series)))\n",
        "print(np.mean(series))"
      ],
      "execution_count": 4,
      "outputs": [
        {
          "output_type": "stream",
          "text": [
            "0.4986\n",
            "3.5109\n"
          ],
          "name": "stdout"
        }
      ]
    },
    {
      "cell_type": "code",
      "metadata": {
        "id": "Mm2iHfxtSR2k"
      },
      "source": [
        "def trial():\n",
        "    number = [1,2,3,4,5,6,7,8,9,10]\n",
        "    a = random.choice(number)\n",
        "    if a<= 7:\n",
        "        return 1\n",
        "    else:\n",
        "        return 0"
      ],
      "execution_count": 5,
      "outputs": []
    },
    {
      "cell_type": "code",
      "metadata": {
        "colab": {
          "base_uri": "https://localhost:8080/"
        },
        "id": "6wJL8irUSTNn",
        "outputId": "0efec8aa-1de3-4ab2-f955-108af2044b4d"
      },
      "source": [
        "res = [trial() for x in range(10)]\n",
        "print(sum(res))"
      ],
      "execution_count": 6,
      "outputs": [
        {
          "output_type": "stream",
          "text": [
            "9\n"
          ],
          "name": "stdout"
        }
      ]
    },
    {
      "cell_type": "code",
      "metadata": {
        "colab": {
          "base_uri": "https://localhost:8080/"
        },
        "id": "B5aRmdrGSU5B",
        "outputId": "3537183e-962b-4c44-bb52-6a88c28152f5"
      },
      "source": [
        "def binomial(number):\n",
        "    l = []\n",
        "    for i in range(10000):\n",
        "        res = [trial() for x in range(10)]\n",
        "        l.append(sum(res))\n",
        "    return len([x for x in l if x == number])/float(len(l))\n",
        "print(binomial(8))"
      ],
      "execution_count": 7,
      "outputs": [
        {
          "output_type": "stream",
          "text": [
            "0.2332\n"
          ],
          "name": "stdout"
        }
      ]
    },
    {
      "cell_type": "code",
      "metadata": {
        "colab": {
          "base_uri": "https://localhost:8080/"
        },
        "id": "aEOty3nbSWYv",
        "outputId": "fb149df1-a14b-45bf-c8b3-9b9277816ebb"
      },
      "source": [
        "prob = []\n",
        "for i in range(1,11):\n",
        "    prob.append(binomial(i))\n",
        "prob_s = pd.Series(prob,index = range(1,11))\n",
        "print(prob_s)"
      ],
      "execution_count": 8,
      "outputs": [
        {
          "output_type": "stream",
          "text": [
            "1     0.0001\n",
            "2     0.0012\n",
            "3     0.0093\n",
            "4     0.0358\n",
            "5     0.1084\n",
            "6     0.1962\n",
            "7     0.2679\n",
            "8     0.2312\n",
            "9     0.1197\n",
            "10    0.0273\n",
            "dtype: float64\n"
          ],
          "name": "stdout"
        }
      ]
    },
    {
      "cell_type": "code",
      "metadata": {
        "id": "lChFGDyUS6My"
      },
      "source": [
        "def factorial(number):\n",
        "  fact = 1\n",
        "  for i in range(1, number+1):\n",
        "    fact *= i\n",
        "  return fact"
      ],
      "execution_count": 10,
      "outputs": []
    },
    {
      "cell_type": "code",
      "metadata": {
        "colab": {
          "base_uri": "https://localhost:8080/"
        },
        "id": "Jj_7pHsdSYDq",
        "outputId": "df1d2498-60d4-45b5-8a1b-0eb17e6da3d0"
      },
      "source": [
        "print((float(factorial(10))/(factorial(7)*factorial(10-7)))*(0.7**7)*(0.3**3))\n",
        "print((float(factorial(10))/(factorial(8)*factorial(10-8)))*(0.7**8)*(0.3**2))"
      ],
      "execution_count": 11,
      "outputs": [
        {
          "output_type": "stream",
          "text": [
            "0.2668279319999998\n",
            "0.23347444049999988\n"
          ],
          "name": "stdout"
        }
      ]
    },
    {
      "cell_type": "code",
      "metadata": {
        "colab": {
          "base_uri": "https://localhost:8080/",
          "height": 592
        },
        "id": "j4L1lNnjSakg",
        "outputId": "592b87c2-4ab9-4733-d255-1bf32472383b"
      },
      "source": [
        "plt.figure(figsize = (20,10))\n",
        "plt.bar(range(1,11),prob)\n",
        "plt.grid()\n",
        "plt.show()"
      ],
      "execution_count": 12,
      "outputs": [
        {
          "output_type": "display_data",
          "data": {
            "image/png": "[encoded data removed]",
            "text/plain": [
              "<Figure size 1440x720 with 1 Axes>"
            ]
          },
          "metadata": {
            "tags": [],
            "needs_background": "light"
          }
        }
      ]
    },
    {
      "cell_type": "code",
      "metadata": {
        "colab": {
          "base_uri": "https://localhost:8080/",
          "height": 34
        },
        "id": "hinNdL2DScd6",
        "outputId": "ccb76a77-9a24-4522-89ed-1867dcce8019"
      },
      "source": [
        "plt.figure(figsize = (20,10))\n",
        "plt.show()"
      ],
      "execution_count": 15,
      "outputs": [
        {
          "output_type": "display_data",
          "data": {
            "text/plain": [
              "<Figure size 1440x720 with 0 Axes>"
            ]
          },
          "metadata": {
            "tags": []
          }
        }
      ]
    },
    {
      "cell_type": "code",
      "metadata": {
        "colab": {
          "base_uri": "https://localhost:8080/"
        },
        "id": "4-kBz0ttSsTt",
        "outputId": "4c263957-a22b-4a24-d7f8-853c1f2d5d7c"
      },
      "source": [
        "!pip install Quandl"
      ],
      "execution_count": 16,
      "outputs": [
        {
          "output_type": "stream",
          "text": [
            "Collecting Quandl\n",
            "  Downloading https://files.pythonhosted.org/packages/8b/2b/feefb36015beaecc5c0f9f2533e815b409621d9fa7b50b2aac621796f828/Quandl-3.6.1-py2.py3-none-any.whl\n",
            "Requirement already satisfied: requests>=2.7.0 in /usr/local/lib/python3.7/dist-packages (from Quandl) (2.23.0)\n",
            "Requirement already satisfied: more-itertools in /usr/local/lib/python3.7/dist-packages (from Quandl) (8.7.0)\n",
            "Requirement already satisfied: six in /usr/local/lib/python3.7/dist-packages (from Quandl) (1.15.0)\n",
            "Collecting inflection>=0.3.1\n",
            "  Downloading https://files.pythonhosted.org/packages/59/91/aa6bde563e0085a02a435aa99b49ef75b0a4b062635e606dab23ce18d720/inflection-0.5.1-py2.py3-none-any.whl\n",
            "Requirement already satisfied: numpy>=1.8 in /usr/local/lib/python3.7/dist-packages (from Quandl) (1.19.5)\n",
            "Requirement already satisfied: pandas>=0.14 in /usr/local/lib/python3.7/dist-packages (from Quandl) (1.1.5)\n",
            "Requirement already satisfied: python-dateutil in /usr/local/lib/python3.7/dist-packages (from Quandl) (2.8.1)\n",
            "Requirement already satisfied: urllib3!=1.25.0,!=1.25.1,<1.26,>=1.21.1 in /usr/local/lib/python3.7/dist-packages (from requests>=2.7.0->Quandl) (1.24.3)\n",
            "Requirement already satisfied: idna<3,>=2.5 in /usr/local/lib/python3.7/dist-packages (from requests>=2.7.0->Quandl) (2.10)\n",
            "Requirement already satisfied: chardet<4,>=3.0.2 in /usr/local/lib/python3.7/dist-packages (from requests>=2.7.0->Quandl) (3.0.4)\n",
            "Requirement already satisfied: certifi>=2017.4.17 in /usr/local/lib/python3.7/dist-packages (from requests>=2.7.0->Quandl) (2020.12.5)\n",
            "Requirement already satisfied: pytz>=2017.2 in /usr/local/lib/python3.7/dist-packages (from pandas>=0.14->Quandl) (2018.9)\n",
            "Installing collected packages: inflection, Quandl\n",
            "Successfully installed Quandl-3.6.1 inflection-0.5.1\n"
          ],
          "name": "stdout"
        }
      ]
    },
    {
      "cell_type": "code",
      "metadata": {
        "id": "Tx2GhIbCSeSq"
      },
      "source": [
        "import quandl\n",
        "quandl.ApiConfig.api_key = 'tAyfv1zpWnyhmDsp91yv'\n",
        "spy_table = quandl.get('BCIW/_SPXT')\n",
        "spy = spy_table.loc['2009':'2017',['Open','Close']]\n",
        "spy['log_return'] = np.log(spy.Close).diff()\n",
        "spy = spy.dropna()"
      ],
      "execution_count": 18,
      "outputs": []
    },
    {
      "cell_type": "code",
      "metadata": {
        "id": "CEJjAEu0Sfs6"
      },
      "source": [
        "plt.figure(figsize = (20,10))\n",
        "spy.log_return.plot()\n",
        "plt.show()"
      ],
      "execution_count": 19,
      "outputs": []
    },
    {
      "cell_type": "code",
      "metadata": {
        "id": "laJfG2F8ShHS"
      },
      "source": [
        "plt.figure(figsize = (20,10))\n",
        "spy.log_return.plot()\n",
        "plt.show()"
      ],
      "execution_count": 20,
      "outputs": []
    },
    {
      "cell_type": "code",
      "metadata": {
        "id": "oWTuDIxsSigs"
      },
      "source": [
        "de_2 = pd.Series(np.random.normal(0,2,10000),name = 'μ = 0, σ = 2')\n",
        "de_3 = pd.Series(np.random.normal(0,3,10000),name = 'μ = 0, σ = 3')\n",
        "de_0 = pd.Series(np.random.normal(0,0.5,10000), name ='μ = 0, σ = 0.5')\n",
        "mu_1 = pd.Series(np.random.normal(-2,1,10000),name ='μ = -2, σ = 1')\n",
        "df = pd.concat([de_2,de_3,de_0,mu_1],axis = 1)\n",
        "plt.figure(figsize=(20,10))\n",
        "df.plot.density()\n",
        "plt.show()"
      ],
      "execution_count": 21,
      "outputs": []
    }
  ]
}