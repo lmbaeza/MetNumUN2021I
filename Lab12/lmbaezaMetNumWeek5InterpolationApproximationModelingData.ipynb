{
  "nbformat": 4,
  "nbformat_minor": 0,
  "metadata": {
    "kernelspec": {
      "display_name": "Python 3",
      "language": "python",
      "name": "python3"
    },
    "language_info": {
      "codemirror_mode": {
        "name": "ipython",
        "version": 3
      },
      "file_extension": ".py",
      "mimetype": "text/x-python",
      "name": "python",
      "nbconvert_exporter": "python",
      "pygments_lexer": "ipython3",
      "version": "3.5.2"
    },
    "colab": {
      "name": "lmbaezaMetNumWeek5InterpolationApproximationModelingData.ipynb",
      "provenance": [],
      "collapsed_sections": []
    }
  },
  "cells": [
    {
      "cell_type": "markdown",
      "metadata": {
        "id": "N-x34g9k88Sr"
      },
      "source": [
        "# I. Linear least squares approximation"
      ]
    },
    {
      "cell_type": "markdown",
      "metadata": {
        "id": "eVAqTn_QAvKI"
      },
      "source": [
        "# Python Library"
      ]
    },
    {
      "cell_type": "code",
      "metadata": {
        "id": "JsgLh76UAuto"
      },
      "source": [
        "import numpy as np\n",
        "import matplotlib.pyplot as plt"
      ],
      "execution_count": 157,
      "outputs": []
    },
    {
      "cell_type": "markdown",
      "metadata": {
        "id": "XlrU_X1p88Su"
      },
      "source": [
        "Consider a function $y = f(x)$ which is defined by a set of values $y_0, y_1, \\cdots, y_n$ at points $x_0, x_1, \\cdots, x_n$."
      ]
    },
    {
      "cell_type": "code",
      "metadata": {
        "collapsed": true,
        "id": "GFn4jxCY88Sv"
      },
      "source": [
        "x = np.array([-1, -0.7, -0.43, -0.14, -0.14, 0.43, 0.71, 1, 1.29, 1.57, 1.86, 2.14, 2.43, 2.71, 3])\n",
        "y = np.array([-2.25, -0.77, 0.21, 0.44, 0.64, 0.03, -0.22, -0.84, -1.2, -1.03, -0.37, 0.61, 2.67, 5.04, 8.90])"
      ],
      "execution_count": 158,
      "outputs": []
    },
    {
      "cell_type": "markdown",
      "metadata": {
        "id": "z6Z1Ha0y88Sw"
      },
      "source": [
        "### I.I. Find a best fit polynomial\n",
        "\n",
        "$$\n",
        "P_m(x) = a_0 + a_1 x + \\cdots + a_m x^m\n",
        "$$\n",
        "\n",
        "using the linear least squares approach. To this end\n",
        "\n",
        "1. implement a function which constructs the design matrix using $1, x, \\cdots, x^m$ as the basis functions.\n",
        "\n",
        "2. construct explicitly the normal system of equations of the linear least squares problem at fixed $m$.\n",
        "\n",
        "3. Solve the normal equations to find the coefficients of $P_m(x)$ for $m = 0, 1, 2, \\dots$. For the linear algebra problem, you can either use library functions (`numpy.linalg.solve`) or your LU factorization code from week 1.\n",
        "\n",
        "(20% of the total grade)"
      ]
    },
    {
      "cell_type": "code",
      "metadata": {
        "collapsed": true,
        "id": "etkyUbsT88Sx"
      },
      "source": [
        "# 1. implement a function which constructs the design matrix using $1, x, \\cdots, x^m$ as the basis functions.\n",
        "def designMatrix(x_value, m_index):\n",
        "    output = []\n",
        "    for m_i in range(0, m_index+1):\n",
        "        ans_i = x_value ** m_i\n",
        "        output.append(ans_i)\n",
        "    output = np.array(output)\n",
        "    output = output.T\n",
        "    return output"
      ],
      "execution_count": 159,
      "outputs": []
    },
    {
      "cell_type": "code",
      "metadata": {
        "id": "lif2-n3oA5em"
      },
      "source": [
        "# 2. construct explicitly the normal system of equations of the linear least squares problem at fixed $m$.\n",
        "def systemEquations(A, y):\n",
        "    trans1 = np.linalg.inv(A.T @ A)\n",
        "    trans2 = trans1 @ A.T\n",
        "    x = np.dot(trans2, y)\n",
        "    matrix_product = A @ x\n",
        "    answer = np.linalg.norm(matrix_product - y)\n",
        "    return x, answer"
      ],
      "execution_count": 160,
      "outputs": []
    },
    {
      "cell_type": "code",
      "metadata": {
        "colab": {
          "base_uri": "https://localhost:8080/"
        },
        "id": "C6GsWat1BzGG",
        "outputId": "f4a2f00d-e938-486f-8d5b-0530aaef67a2"
      },
      "source": [
        "# 3. Solve the normal equations to find the coefficients of $P_m(x)$ for $m = 0, 1, 2, \\dots$. For the linear algebra problem, you can either use library functions (`numpy.linalg.solve`) or your LU factorization code from week 1.\n",
        "n = min(12, x.shape[0], y.shape[0])\n",
        "m_index = [i for i in range(0, n)]\n",
        "\n",
        "answer = []\n",
        "\n",
        "for m_i in m_index:\n",
        "    A = designMatrix(np.array(x), m_i)\n",
        "    x_i, answer_i = systemEquations(A, y)\n",
        "    answer.append(np.array([x_i, answer_i]))\n",
        "answer = np.array(answer)"
      ],
      "execution_count": 161,
      "outputs": [
        {
          "output_type": "stream",
          "text": [
            "/usr/local/lib/python3.7/dist-packages/ipykernel_launcher.py:10: VisibleDeprecationWarning: Creating an ndarray from ragged nested sequences (which is a list-or-tuple of lists-or-tuples-or ndarrays with different lengths or shapes) is deprecated. If you meant to do this, you must specify 'dtype=object' when creating the ndarray\n",
            "  # Remove the CWD from sys.path while we load stuff.\n"
          ],
          "name": "stderr"
        }
      ]
    },
    {
      "cell_type": "markdown",
      "metadata": {
        "id": "6xINJKka88Sx"
      },
      "source": [
        "### I.II \n",
        "\n",
        "To find the optimal value of m, use the following criterion: take $m=0, 1, 2, \\dots$, for each value of $m$ compute \n",
        "\n",
        "$$\n",
        "\\sigma_m^2 = \\frac{1}{n - m} \\sum_{k=0}^n \\left( P_m(x_k) - y_k \\right)^2\n",
        "$$\n",
        "\n",
        "And take the value of $m$, at which $\\sigma_m$ stabilizes or starts increasing.\n",
        "\n",
        "(20% of the total grade)"
      ]
    },
    {
      "cell_type": "code",
      "metadata": {
        "collapsed": true,
        "colab": {
          "base_uri": "https://localhost:8080/"
        },
        "id": "ZE9n44Dy88Sy",
        "outputId": "ff504e6b-5e1c-494c-8e6e-ca1585359a45"
      },
      "source": [
        "# ... ENTER YOUR CODE HERE ...\n",
        "\n",
        "sigma_2 = []\n",
        "\n",
        "for i in range(answer.shape[0]):\n",
        "    a2 = answer[i][1]\n",
        "    coeficient = a2 / (n - i)\n",
        "    sigma_2.append([i, coeficient])\n",
        "\n",
        "for val in sigma_2:\n",
        "    print(\"[m={}] σ^2={}\".format(val[0], val[1]))"
      ],
      "execution_count": 162,
      "outputs": [
        {
          "output_type": "stream",
          "text": [
            "[m=0] σ^2=0.8836111722379384\n",
            "[m=1] σ^2=0.7175660313664283\n",
            "[m=2] σ^2=0.5647526092771004\n",
            "[m=3] σ^2=0.042983026968416965\n",
            "[m=4] σ^2=0.04627777602063196\n",
            "[m=5] σ^2=0.05070937457172232\n",
            "[m=6] σ^2=0.05383032068594496\n",
            "[m=7] σ^2=0.06270959545444185\n",
            "[m=8] σ^2=0.07114492281302116\n",
            "[m=9] σ^2=0.09284770749972922\n",
            "[m=10] σ^2=0.13350056026726065\n",
            "[m=11] σ^2=0.14670468990380656\n"
          ],
          "name": "stdout"
        }
      ]
    },
    {
      "cell_type": "markdown",
      "metadata": {
        "id": "bca5n9zZ88Sz"
      },
      "source": [
        "---\n",
        "\n",
        "Plot your polynomials $P_m(x)$ on one plot, together with the datapoints. Visually compare best-fit polynomials of different degrees. Is the visual comparison consistent with the optimal value of $m$?"
      ]
    },
    {
      "cell_type": "code",
      "metadata": {
        "collapsed": true,
        "colab": {
          "base_uri": "https://localhost:8080/",
          "height": 281
        },
        "id": "4UsfTygP88S0",
        "outputId": "95a3b207-7ae9-42c4-c42c-f706b1c21cc4"
      },
      "source": [
        "# ... ENTER YOUR CODE HERE\n",
        "legend = []\n",
        "for i in range(answer.shape[0]):\n",
        "    a1 = answer[i][0]\n",
        "    polynomial = np.polynomial.polynomial.polyval(x, a1)\n",
        "    plt.plot(x, polynomial)\n",
        "    legend.append(\"degree {}\".format(i))\n",
        "\n",
        "plt.title(\"Visually compare best-fit polynomials of different degrees\")\n",
        "plt.legend(legend)\n",
        "plt.show()"
      ],
      "execution_count": 163,
      "outputs": [
        {
          "output_type": "display_data",
          "data": {
            "image/png": "[encoded data removed]",
            "text/plain": [
              "<Figure size 432x288 with 1 Axes>"
            ]
          },
          "metadata": {
            "tags": [],
            "needs_background": "light"
          }
        }
      ]
    },
    {
      "cell_type": "markdown",
      "metadata": {
        "id": "HdofiCDq88S0"
      },
      "source": [
        "### I.III. Linear least-squares using the QR factorization.\n",
        "\n",
        "For the optimal value of $m$ from the previous part, solve the LLS problem using the QR factorization, withou ever forming the normal equations explicitly. For linear algebra, you can use standard library functions (look up `numpy.linalg.solve`, `numpy.linalg.qr` etc) or your code from previous weeks.\n",
        "\n",
        "Compare the results with the results of solving the normal system of equations.\n",
        "\n",
        "(20% of the grade)"
      ]
    },
    {
      "cell_type": "code",
      "metadata": {
        "collapsed": true,
        "id": "AK5hJVHl88S1"
      },
      "source": [
        "# ... ENTER YOUR CODE HERE ...\n",
        "x_new = np.array([\n",
        "    -1, -0.7, -0.43, -0.14, -0.14, 0.43, 0.71, 1, 1.29, 1.57, 1.86, 2.14, 2.43, 2.71, 3\n",
        "])\n",
        "y_new = np.array([\n",
        "    -2.25, -0.77, 0.21, 0.44, 0.64, 0.03, -0.22, -0.84, -1.2, -1.03, -0.37, 0.61, 2.67, 5.04, 8.90\n",
        "])\n",
        "\n",
        "def QR(A, b):\n",
        "    m = A.shape[1]\n",
        "    ans = tuple(np.linalg.qr(A))\n",
        "    Q = ans[0]\n",
        "    R = ans[1]\n",
        "    f = (Q.T @ b)\n",
        "    f = f[:m]\n",
        "    answer = np.linalg.solve(R[:m], f)\n",
        "    return answer\n",
        "\n",
        "m_index = 3\n",
        "c = QR(designMatrix(x_new, m_index), y_new)\n",
        "answer = c-sigma_2[m_index][1]"
      ],
      "execution_count": 164,
      "outputs": []
    },
    {
      "cell_type": "markdown",
      "metadata": {
        "id": "nLiauzCy88S1"
      },
      "source": [
        "# II. Lagrange interpolation"
      ]
    },
    {
      "cell_type": "markdown",
      "metadata": {
        "id": "e7ML9FVJ88S2"
      },
      "source": [
        "### II.1 \n",
        "\n",
        "Consider the function, $f(x) = x^2 \\cos{x}$. On the interval $x\\in [\\pi/2, \\pi]$, interpolate the function using the Lagrange interpolating polynomial of degree $m$ with $m=1, 2, 3, 4, 5$. Use the uniform mesh. Plot the resulting interpolants together with $f(x)$.\n",
        "\n",
        "(20% of the total grade)"
      ]
    },
    {
      "cell_type": "code",
      "metadata": {
        "id": "JeS-7qEduqpB"
      },
      "source": [
        "# ... ENTER YOUR CODE HERE ...\n",
        "\n",
        "def lagrangeInterpolation(points, x, y):\n",
        "    answer = np.array([0 for _ in range(len(x))])\n",
        "    n = len(points)\n",
        "    for index in range(n):\n",
        "        answer = answer + y[index] * lagrangePolynomial(points, index, x)\n",
        "    return answer \n",
        "\n",
        "def lagrangePolynomial(points, position, x):\n",
        "    answer = 1.0\n",
        "    n = len(points)\n",
        "    for index in range(n):\n",
        "        if index != position:\n",
        "            answer = answer * (x-points[index])\n",
        "            answer = answer / (points[position]-points[index])\n",
        "    return answer"
      ],
      "execution_count": 165,
      "outputs": []
    },
    {
      "cell_type": "code",
      "metadata": {
        "collapsed": true,
        "id": "KrdQ7fu_88S2",
        "colab": {
          "base_uri": "https://localhost:8080/",
          "height": 283
        },
        "outputId": "ee1fef4e-93e4-4372-8f56-a9443d51e278"
      },
      "source": [
        "def f(x):\n",
        "    return (x**2) * np.cos(x)\n",
        "\n",
        "LIMIT = 10\n",
        "SAMPLES = 100\n",
        "LEFT = np.pi / 2\n",
        "RIGHT =  np.pi\n",
        "\n",
        "x = np.linspace(LEFT, RIGHT, SAMPLES)\n",
        "plt.plot(x, f(x))\n",
        "\n",
        "\n",
        "legend = []\n",
        "for value in range(LIMIT):\n",
        "    if value != 0:\n",
        "        points = np.linspace(LEFT, RIGHT, value)\n",
        "        plt.plot(x, lagrangeInterpolation(points, x, f(points)))\n",
        "        legend.append(\"value-{}\".format(value))\n",
        "\n",
        "plt.legend(legend)"
      ],
      "execution_count": 166,
      "outputs": [
        {
          "output_type": "execute_result",
          "data": {
            "text/plain": [
              "<matplotlib.legend.Legend at 0x7fc6a2ae3b10>"
            ]
          },
          "metadata": {
            "tags": []
          },
          "execution_count": 166
        },
        {
          "output_type": "display_data",
          "data": {
            "image/png": "[encoded data removed]",
            "text/plain": [
              "<Figure size 432x288 with 1 Axes>"
            ]
          },
          "metadata": {
            "tags": [],
            "needs_background": "light"
          }
        }
      ]
    },
    {
      "cell_type": "markdown",
      "metadata": {
        "id": "nNco09IK88S3"
      },
      "source": [
        "### II.2. \n",
        "\n",
        "Repeat the previous task using the Chebyshev nodes. Compare the quality of interpolation on a uniform mesh and Chebyshev nodes for $m=3$.\n",
        "\n",
        "(20% of the total grade)"
      ]
    },
    {
      "cell_type": "code",
      "metadata": {
        "collapsed": true,
        "id": "PsCeJqU988S3",
        "colab": {
          "base_uri": "https://localhost:8080/",
          "height": 283
        },
        "outputId": "8dd8c0ac-5999-481d-9bac-ca8da5bc2b1f"
      },
      "source": [
        "# ... ENTER YOUR CODE HERE ...\n",
        "it = 2\n",
        "k = np.array(range(it))\n",
        "X = np.cos(2*k+1/it)\n",
        "points = (X+1)*(RIGHT-LEFT)/2 + LEFT\n",
        "\n",
        "plt.plot(x, f(x))\n",
        "plt.plot(x, lagrangeInterpolation(points, x, f(points)))"
      ],
      "execution_count": 167,
      "outputs": [
        {
          "output_type": "execute_result",
          "data": {
            "text/plain": [
              "[<matplotlib.lines.Line2D at 0x7fc6a29fe2d0>]"
            ]
          },
          "metadata": {
            "tags": []
          },
          "execution_count": 167
        },
        {
          "output_type": "display_data",
          "data": {
            "image/png": "[encoded data removed]",
            "text/plain": [
              "<Figure size 432x288 with 1 Axes>"
            ]
          },
          "metadata": {
            "tags": [],
            "needs_background": "light"
          }
        }
      ]
    }
  ]
}