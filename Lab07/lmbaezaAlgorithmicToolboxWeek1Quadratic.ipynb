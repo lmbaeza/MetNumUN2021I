{
  "nbformat": 4,
  "nbformat_minor": 0,
  "metadata": {
    "colab": {
      "name": "lmbaezaAlgorithmicToolboxWeek1Quadratic.ipynb",
      "provenance": []
    },
    "kernelspec": {
      "name": "python3",
      "display_name": "Python 3"
    },
    "language_info": {
      "name": "python"
    }
  },
  "cells": [
    {
      "cell_type": "markdown",
      "metadata": {
        "id": "4TD1_1CI5g8I"
      },
      "source": [
        "# LAB7  Introduction to numerical analysis – Week 1 – Peer-graded Assignment: Solve a quadratic equation\n",
        "\n",
        "**Universidad Nacional de Colombia - Sede Bogotá**\n",
        " \n",
        " _**Metodos Numericos**_\n",
        "\n",
        " **Docente:** German Hernandez\n",
        "\n",
        " **Estudiantes:**\n",
        " * Luis Miguel Báez Aponte - lmbaeza@unal.edu.co"
      ]
    },
    {
      "cell_type": "code",
      "metadata": {
        "id": "KySsIDp24-HT"
      },
      "source": [
        "from cmath import sqrt\n",
        "\n",
        "def my_sqrt(a, b, c):\n",
        "  if (b > 1e+9 or b < -1e+9):\n",
        "      root1 = -b\n",
        "      return root1, c/root1\n",
        "  elif (a==0 and b==0 and c==0):\n",
        "      return -1, -1\n",
        "  elif (a==0 and b==0 and c!=0):\n",
        "      return 0, 0\n",
        "  elif (a==0 and b!=0):\n",
        "      return 1, -c/b\n",
        "  else:\n",
        "      root1 = (b*-1.0 + sqrt(b**2 - 4.0*c))/2\n",
        "      root2 = (b*-1.0 - sqrt(b**2 - 4.0*c))/2\n",
        "      return root1, root2"
      ],
      "execution_count": 65,
      "outputs": []
    },
    {
      "cell_type": "code",
      "metadata": {
        "id": "0E7V2cju-Wak"
      },
      "source": [
        "from numpy import allclose"
      ],
      "execution_count": 8,
      "outputs": []
    },
    {
      "cell_type": "code",
      "metadata": {
        "colab": {
          "base_uri": "https://localhost:8080/"
        },
        "id": "cDVUZR5a-ZUU",
        "outputId": "7c302a8a-04cd-4876-8cac-c0a5b3a5a4db"
      },
      "source": [
        "variants = [{'b': 4.0, 'c': 3.0},\n",
        "            {'b': 2.0, 'c': 1.0},\n",
        "            {'b': 0.5, 'c': 4.0},\n",
        "            {'b': 1e10, 'c': 3.0},\n",
        "            {'b': -1e10, 'c': 4.0},]\n",
        "\n",
        "for var in variants:\n",
        "    b, c = var['b'], var['c']\n",
        "    x1, x2 = my_sqrt(1, b, c)\n",
        "    print(allclose(x1*x2, var['c']))"
      ],
      "execution_count": 66,
      "outputs": [
        {
          "output_type": "stream",
          "text": [
            "True\n",
            "True\n",
            "True\n",
            "True\n",
            "True\n"
          ],
          "name": "stdout"
        }
      ]
    }
  ]
}