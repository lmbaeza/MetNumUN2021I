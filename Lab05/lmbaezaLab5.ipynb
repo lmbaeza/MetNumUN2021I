{
  "nbformat": 4,
  "nbformat_minor": 0,
  "metadata": {
    "colab": {
      "name": "lmbaezaLab5.ipynb",
      "provenance": [],
      "collapsed_sections": []
    },
    "kernelspec": {
      "name": "python3",
      "display_name": "Python 3"
    },
    "language_info": {
      "name": "python"
    }
  },
  "cells": [
    {
      "cell_type": "markdown",
      "metadata": {
        "id": "ekemW3cUh2aj"
      },
      "source": [
        "# LAB 5 QuantConnect ALGO\n",
        "\n",
        "**Universidad Nacional de Colombia - Sede Bogotá**\n",
        "\n",
        "**_Metodos Numericos_**\n",
        "\n",
        "**Docente:** German Hernandez\n",
        "\n",
        "**Estudiantes:**\n",
        "\n",
        "Luis Miguel Báez Aponte - lmbaeza@unal.edu.co"
      ]
    },
    {
      "cell_type": "code",
      "metadata": {
        "id": "tyRbw4BRhrcX"
      },
      "source": [
        "class BootCampTask(QCAlgorithm):\n",
        "\n",
        "    def Initialize(self):\n",
        "        self.SetStartDate(2013,1, 1)\n",
        "        self.SetEndDate(2015,1,1)\n",
        "        self.SetCash(10000)\n",
        "        \n",
        "        RSI_Period    = 3\n",
        "        self.RSI_OB   = 60\n",
        "        self.RSI_OS   = 40\n",
        "        self.Allocate = 0.25\n",
        "        self.AddEquity(\"AAPL\", Resolution.Daily)\n",
        "        self.RSI_Ind = self.RSI(\"AAPL\", RSI_Period)\n",
        "        self.SetWarmUp(RSI_Period)\n",
        "        \n",
        "    def OnData(self, data):\n",
        "        if not self.Portfolio.Invested:\n",
        "            if self.RSI_Ind.Current.Value < self.RSI_OS:\n",
        "                self.SetHoldings(\"AAPL\", self.Allocate)\n",
        "        else:\n",
        "            if self.RSI_Ind.Current.Value > self.RSI_OB:\n",
        "                self.Liquidate(\"AAPL\")"
      ],
      "execution_count": null,
      "outputs": []
    }
  ]
}