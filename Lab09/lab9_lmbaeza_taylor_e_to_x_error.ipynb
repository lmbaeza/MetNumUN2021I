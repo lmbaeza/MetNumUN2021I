{
  "nbformat": 4,
  "nbformat_minor": 0,
  "metadata": {
    "colab": {
      "name": "lab9_lmbaeza_taylor_e_to_x_error.ipynb",
      "provenance": [],
      "collapsed_sections": []
    },
    "kernelspec": {
      "name": "python3",
      "display_name": "Python 3"
    }
  },
  "cells": [
    {
      "cell_type": "markdown",
      "metadata": {
        "id": "4eKr-6CyYBWZ"
      },
      "source": [
        "# LAB 9 Taylor_e_to_x_error.ipynb\n",
        "\n",
        "**Universidad Nacional de Colombia - Sede Bogotá**\n",
        "\n",
        "**Metodos Numericos**\n",
        "\n",
        "**Docente:** _German Hernandez_\n",
        "\n",
        "**Estudiante:**\n",
        "  * Luis Miguel Báez Aponte - lmbaeza@unal.edu.co"
      ]
    },
    {
      "cell_type": "markdown",
      "metadata": {
        "id": "rhEQA1k4YPUb"
      },
      "source": [
        "# 📌 $ln(x\\:+\\:1)$"
      ]
    },
    {
      "cell_type": "markdown",
      "metadata": {
        "id": "LDGHRdsBYgjO"
      },
      "source": [
        "$$ln\\left(1+x\\right)=x-\\frac{x^2}{2}+\\frac{x^3}{3}-\\cdot \\cdot \\cdot =\\sum _{k=1}^{\\infty }\\:\\left(-1\\right)^{k-1}\\cdot \\frac{x^k}{k}\\:$$"
      ]
    },
    {
      "cell_type": "code",
      "metadata": {
        "colab": {
          "base_uri": "https://localhost:8080/"
        },
        "id": "24PtUQx7YZps",
        "outputId": "fa1f00c3-a3c8-4660-e8f0-58694f5d8090"
      },
      "source": [
        "import math\n",
        "\n",
        "x = 1\n",
        "ln_x = x - x**2/2 + x**3/3 - x**4/4 + x**5/5 - x**6/6 + x**7/7 - x**8/8 + x**9/9\n",
        "print(ln_x)"
      ],
      "execution_count": 1,
      "outputs": [
        {
          "output_type": "stream",
          "text": [
            "0.7456349206349207\n"
          ],
          "name": "stdout"
        }
      ]
    },
    {
      "cell_type": "code",
      "metadata": {
        "colab": {
          "base_uri": "https://localhost:8080/"
        },
        "id": "iyr7n8Thkbt0",
        "outputId": "f565b9ba-19e5-41c4-b5f2-b2fa1e35eaaa"
      },
      "source": [
        "print(math.log(1+1))"
      ],
      "execution_count": 2,
      "outputs": [
        {
          "output_type": "stream",
          "text": [
            "0.6931471805599453\n"
          ],
          "name": "stdout"
        }
      ]
    },
    {
      "cell_type": "code",
      "metadata": {
        "colab": {
          "base_uri": "https://localhost:8080/"
        },
        "id": "PTZiWFSAkfeJ",
        "outputId": "7b57fcdc-7454-45f9-9545-c2bb10e89fcf"
      },
      "source": [
        "import math\n",
        "\n",
        "x = 1\n",
        "log_x = 0\n",
        "for i in range(1, 1000):\n",
        "    log_x += (-1)**(i-1)*(x**i)/i\n",
        "print(log_x)"
      ],
      "execution_count": 3,
      "outputs": [
        {
          "output_type": "stream",
          "text": [
            "0.6936474305598223\n"
          ],
          "name": "stdout"
        }
      ]
    },
    {
      "cell_type": "markdown",
      "metadata": {
        "id": "BJMfjns_k35O"
      },
      "source": [
        "For the Taylor series for $f(x) = lg(x)$ about $c=0$ (Maclaurin) \n",
        "\n",
        "$$ E_n = \\frac{f^{(n+1)}(\\xi)}{(n+1)!}(x-c)^{(n+1)} = \\frac{ln(\\xi)}{(n+1)!}x^{(n+1)} \\le  \\frac{lg(x)}{(n+1)!}x^{(n+1)},\\text{ given that } $$\n",
        "\n",
        "\n",
        "If we want $E_n \\le \\epsilon$ then we need $n$ such that because $lg(x) \\ge ln(\\xi)$, for  $c=0 \\le \\xi \\le x$ \n",
        "\n",
        "\n",
        "$$ \\frac{lg(x)}{(n+1)!}x^{(n+1)} < \\epsilon$$ \n",
        "\n",
        "because $lg(x) \\ge ln(\\xi)$, for  $0 \\le \\xi \\le x$.\n"
      ]
    },
    {
      "cell_type": "code",
      "metadata": {
        "colab": {
          "base_uri": "https://localhost:8080/"
        },
        "id": "pS34pgddlC3D",
        "outputId": "fc531441-c2cf-4b6e-b45d-50854aac0c51"
      },
      "source": [
        "import math\n",
        "\n",
        "x = 1\n",
        "epsilon = 10**(-2)\n",
        "\n",
        "for k in range(1, 1000+1):\n",
        "  delta = (-1)**(k-1)*(x**k)/k\n",
        "  if (abs(delta) < epsilon):\n",
        "    break\n",
        "print(k)\n",
        "\n",
        "log_x = 0\n",
        "for i in range(1, k+1):\n",
        "    delta = (-1)**(i-1)*(x**i)/i\n",
        "    print(i,' ',log_x, ' delta ', delta)\n",
        "    log_x += delta \n",
        "\n",
        "print(log_x) \n",
        "print('math.log(1+1) = ',math.log(1+1))"
      ],
      "execution_count": 4,
      "outputs": [
        {
          "output_type": "stream",
          "text": [
            "101\n",
            "1   0  delta  1.0\n",
            "2   1.0  delta  -0.5\n",
            "3   0.5  delta  0.3333333333333333\n",
            "4   0.8333333333333333  delta  -0.25\n",
            "5   0.5833333333333333  delta  0.2\n",
            "6   0.7833333333333332  delta  -0.16666666666666666\n",
            "7   0.6166666666666666  delta  0.14285714285714285\n",
            "8   0.7595238095238095  delta  -0.125\n",
            "9   0.6345238095238095  delta  0.1111111111111111\n",
            "10   0.7456349206349207  delta  -0.1\n",
            "11   0.6456349206349207  delta  0.09090909090909091\n",
            "12   0.7365440115440116  delta  -0.08333333333333333\n",
            "13   0.6532106782106782  delta  0.07692307692307693\n",
            "14   0.7301337551337552  delta  -0.07142857142857142\n",
            "15   0.6587051837051838  delta  0.06666666666666667\n",
            "16   0.7253718503718505  delta  -0.0625\n",
            "17   0.6628718503718505  delta  0.058823529411764705\n",
            "18   0.7216953797836152  delta  -0.05555555555555555\n",
            "19   0.6661398242280596  delta  0.05263157894736842\n",
            "20   0.718771403175428  delta  -0.05\n",
            "21   0.6687714031754279  delta  0.047619047619047616\n",
            "22   0.7163904507944756  delta  -0.045454545454545456\n",
            "23   0.6709359053399302  delta  0.043478260869565216\n",
            "24   0.7144141662094954  delta  -0.041666666666666664\n",
            "25   0.6727474995428288  delta  0.04\n",
            "26   0.7127474995428288  delta  -0.038461538461538464\n",
            "27   0.6742859610812904  delta  0.037037037037037035\n",
            "28   0.7113229981183273  delta  -0.03571428571428571\n",
            "29   0.6756087124040416  delta  0.034482758620689655\n",
            "30   0.7100914710247312  delta  -0.03333333333333333\n",
            "31   0.6767581376913979  delta  0.03225806451612903\n",
            "32   0.7090162022075269  delta  -0.03125\n",
            "33   0.6777662022075269  delta  0.030303030303030304\n",
            "34   0.7080692325105572  delta  -0.029411764705882353\n",
            "35   0.6786574678046748  delta  0.02857142857142857\n",
            "36   0.7072288963761034  delta  -0.027777777777777776\n",
            "37   0.6794511185983256  delta  0.02702702702702703\n",
            "38   0.7064781456253526  delta  -0.02631578947368421\n",
            "39   0.6801623561516684  delta  0.02564102564102564\n",
            "40   0.7058033817926941  delta  -0.025\n",
            "41   0.6808033817926941  delta  0.024390243902439025\n",
            "42   0.7051936256951331  delta  -0.023809523809523808\n",
            "43   0.6813841018856093  delta  0.023255813953488372\n",
            "44   0.7046399158390977  delta  -0.022727272727272728\n",
            "45   0.681912643111825  delta  0.022222222222222223\n",
            "46   0.7041348653340472  delta  -0.021739130434782608\n",
            "47   0.6823957348992646  delta  0.02127659574468085\n",
            "48   0.7036723306439455  delta  -0.020833333333333332\n",
            "49   0.6828389973106122  delta  0.02040816326530612\n",
            "50   0.7032471605759183  delta  -0.02\n",
            "51   0.6832471605759183  delta  0.0196078431372549\n",
            "52   0.7028550037131732  delta  -0.019230769230769232\n",
            "53   0.683624234482404  delta  0.018867924528301886\n",
            "54   0.7024921590107058  delta  -0.018518518518518517\n",
            "55   0.6839736404921873  delta  0.01818181818181818\n",
            "56   0.7021554586740055  delta  -0.017857142857142856\n",
            "57   0.6842983158168626  delta  0.017543859649122806\n",
            "58   0.7018421754659854  delta  -0.017241379310344827\n",
            "59   0.6846007961556405  delta  0.01694915254237288\n",
            "60   0.7015499486980133  delta  -0.016666666666666666\n",
            "61   0.6848832820313466  delta  0.01639344262295082\n",
            "62   0.7012767246542975  delta  -0.016129032258064516\n",
            "63   0.685147692396233  delta  0.015873015873015872\n",
            "64   0.7010207082692488  delta  -0.015625\n",
            "65   0.6853957082692488  delta  0.015384615384615385\n",
            "66   0.7007803236538641  delta  -0.015151515151515152\n",
            "67   0.685628808502349  delta  0.014925373134328358\n",
            "68   0.7005541816366774  delta  -0.014705882352941176\n",
            "69   0.6858482992837363  delta  0.014492753623188406\n",
            "70   0.7003410529069246  delta  -0.014285714285714285\n",
            "71   0.6860553386212104  delta  0.014084507042253521\n",
            "72   0.7001398456634639  delta  -0.013888888888888888\n",
            "73   0.686250956774575  delta  0.0136986301369863\n",
            "74   0.6999495869115613  delta  -0.013513513513513514\n",
            "75   0.6864360733980478  delta  0.013333333333333334\n",
            "76   0.6997694067313811  delta  -0.013157894736842105\n",
            "77   0.686611511994539  delta  0.012987012987012988\n",
            "78   0.699598524981552  delta  -0.01282051282051282\n",
            "79   0.6867780121610392  delta  0.012658227848101266\n",
            "80   0.6994362400091404  delta  -0.0125\n",
            "81   0.6869362400091404  delta  0.012345679012345678\n",
            "82   0.6992819190214861  delta  -0.012195121951219513\n",
            "83   0.6870867970702665  delta  0.012048192771084338\n",
            "84   0.6991349898413509  delta  -0.011904761904761904\n",
            "85   0.687230227936589  delta  0.011764705882352941\n",
            "86   0.698994933818942  delta  -0.011627906976744186\n",
            "87   0.6873670268421977  delta  0.011494252873563218\n",
            "88   0.698861279715761  delta  -0.011363636363636364\n",
            "89   0.6874976433521246  delta  0.011235955056179775\n",
            "90   0.6987335984083044  delta  -0.011111111111111112\n",
            "91   0.6876224872971933  delta  0.01098901098901099\n",
            "92   0.6986114982862043  delta  -0.010869565217391304\n",
            "93   0.6877419330688129  delta  0.010752688172043012\n",
            "94   0.6984946212408559  delta  -0.010638297872340425\n",
            "95   0.6878563233685155  delta  0.010526315789473684\n",
            "96   0.6983826391579893  delta  -0.010416666666666666\n",
            "97   0.6879659724913226  delta  0.010309278350515464\n",
            "98   0.6982752508418381  delta  -0.01020408163265306\n",
            "99   0.688071169209185  delta  0.010101010101010102\n",
            "100   0.698172179310195  delta  -0.01\n",
            "101   0.688172179310195  delta  0.009900990099009901\n",
            "0.6980731694092049\n",
            "math.log(1+1) =  0.6931471805599453\n"
          ],
          "name": "stdout"
        }
      ]
    },
    {
      "cell_type": "code",
      "metadata": {
        "colab": {
          "base_uri": "https://localhost:8080/"
        },
        "id": "xJUNrISolnwt",
        "outputId": "bc6f74fe-92e2-4945-c3cd-d8ddb92527a4"
      },
      "source": [
        "import math\n",
        "\n",
        "x = 1\n",
        "epsilon = 10**(-2)\n",
        "delta = 1\n",
        "log_x = 0\n",
        "i = 1\n",
        "while epsilon <= abs(delta):\n",
        "  delta = (-1)**(i-1)*((x**i)/i)\n",
        "  log_x += delta\n",
        "  i = i+1\n",
        "\n",
        "print(i-1) \n",
        "print('log_x = ',log_x)    \n",
        "print('math.log(1+1) = ',math.log(1+1))"
      ],
      "execution_count": 5,
      "outputs": [
        {
          "output_type": "stream",
          "text": [
            "101\n",
            "log_x =  0.6980731694092049\n",
            "math.log(1+1) =  0.6931471805599453\n"
          ],
          "name": "stdout"
        }
      ]
    },
    {
      "cell_type": "markdown",
      "metadata": {
        "id": "SAIcfkixmhbe"
      },
      "source": [
        "# 📌 $sin(x)$"
      ]
    },
    {
      "cell_type": "code",
      "metadata": {
        "colab": {
          "base_uri": "https://localhost:8080/"
        },
        "id": "7Kf_nNTKmokx",
        "outputId": "421b4daa-be81-4ead-b3c0-1b6e9f7f8574"
      },
      "source": [
        "x = 2\n",
        "sin_x = x - x**3/math.factorial(3) + x**5/math.factorial(5) - x**7/math.factorial(7) + x**9/math.factorial(9) - x**11/math.factorial(11)\n",
        "print(sin_x)"
      ],
      "execution_count": 6,
      "outputs": [
        {
          "output_type": "stream",
          "text": [
            "0.9092961359628027\n"
          ],
          "name": "stdout"
        }
      ]
    },
    {
      "cell_type": "code",
      "metadata": {
        "colab": {
          "base_uri": "https://localhost:8080/"
        },
        "id": "K23wX0tamqiz",
        "outputId": "4e6c1bd1-dac8-460b-9db1-22bd5bb49794"
      },
      "source": [
        "print(math.sin(2))"
      ],
      "execution_count": 7,
      "outputs": [
        {
          "output_type": "stream",
          "text": [
            "0.9092974268256817\n"
          ],
          "name": "stdout"
        }
      ]
    },
    {
      "cell_type": "code",
      "metadata": {
        "colab": {
          "base_uri": "https://localhost:8080/"
        },
        "id": "1wmxmUcBmr0u",
        "outputId": "867022e8-3143-4a1b-9b31-c6e91b349c16"
      },
      "source": [
        "x = 2\n",
        "sin_x = 0\n",
        "for i in range(10):\n",
        "    sin_x += ((-1)**i) *(x**(2*i+1)/math.factorial(2*i+1))\n",
        "print(sin_x)"
      ],
      "execution_count": 8,
      "outputs": [
        {
          "output_type": "stream",
          "text": [
            "0.909297426825641\n"
          ],
          "name": "stdout"
        }
      ]
    },
    {
      "cell_type": "markdown",
      "metadata": {
        "id": "LcVAXYr4myqe"
      },
      "source": [
        "For the Taylor series for $f(x) = sin(x)$\n",
        "\n",
        "$$ E_n\\:=\\:\\frac{f^{\\left(n+1\\right)}\\left(\\xi \\right)}{\\left(n+1\\right)!}\\left(x-c\\right)^{\\left(n+1\\right)}\\:=\\:\\frac{sin\\left(\\xi \\:\\right)}{\\left(n+1\\right)!}x^{\\left(n+1\\right)}\\:\\le \\:\\:\\frac{sin\\left(x\\right)}{\\left(n+1\\right)!}x^{\\left(n+1\\right)},\\text{ given that } $$\n",
        "\n",
        "\n",
        "If we want $E_n \\le \\epsilon$ then we need $n$ such that because $e^x \\ge e^\\xi$, for  $c=0 \\le \\xi \\le x$ \n",
        "\n",
        "\n",
        "$$ \\frac{sin(x)}{(n+1)!}x^{(n+1)} < \\epsilon$$ \n",
        "\n",
        "because $e^x \\ge e^\\xi$, for  $0 \\le \\xi \\le x$.\n"
      ]
    },
    {
      "cell_type": "code",
      "metadata": {
        "colab": {
          "base_uri": "https://localhost:8080/"
        },
        "id": "yuxNEaKsm1Ev",
        "outputId": "661364f0-9bc2-4456-9b9f-bddf8a258959"
      },
      "source": [
        "x = 2\n",
        "epsilon = 10**(-4)\n",
        "\n",
        "for k in range(1000):\n",
        "  if (  abs( (math.sin(x) * x**(k+1)) / math.factorial(k+1) ) < epsilon):\n",
        "    break\n",
        "print(k)\n",
        "\n",
        "sin_x = 0\n",
        "for i in range(k):\n",
        "    print(i, ' ', sin_x, ' delta ', ((-1)**i) *(x**(2*i+1)/math.factorial(2*i+1)))\n",
        "    sin_x += ((-1)**i) *(x**(2*i+1)/math.factorial(2*i+1))\n",
        "    \n",
        "print('math.sin(2) = ', math.sin(2))"
      ],
      "execution_count": 9,
      "outputs": [
        {
          "output_type": "stream",
          "text": [
            "10\n",
            "0   0  delta  2.0\n",
            "1   2.0  delta  -1.3333333333333333\n",
            "2   0.6666666666666667  delta  0.26666666666666666\n",
            "3   0.9333333333333333  delta  -0.025396825396825397\n",
            "4   0.9079365079365079  delta  0.0014109347442680777\n",
            "5   0.909347442680776  delta  -5.130671797338464e-05\n",
            "6   0.9092961359628027  delta  1.3155568711124266e-06\n",
            "7   0.9092974515196738  delta  -2.5058226116427174e-08\n",
            "8   0.9092974264614476  delta  3.685033252415761e-10\n",
            "9   0.909297426829951  delta  -4.3099804121821765e-12\n",
            "math.sin(2) =  0.9092974268256817\n"
          ],
          "name": "stdout"
        }
      ]
    },
    {
      "cell_type": "code",
      "metadata": {
        "colab": {
          "base_uri": "https://localhost:8080/"
        },
        "id": "vSMOSwtrm8TJ",
        "outputId": "ea4ee580-9112-43d4-e469-898a99d6ea82"
      },
      "source": [
        "x = 2\n",
        "epsilon = 10**(-4)\n",
        "delta = 1\n",
        "sin_x = 0\n",
        "i = 0\n",
        "while  epsilon <= abs(delta):\n",
        "  delta = ((-1)**i) *(x**(2*i+1)/math.factorial(2*i+1))\n",
        "  sin_x += delta\n",
        "  i = i+1\n",
        "\n",
        "print(\"Iteraciones: \", i-1) \n",
        "print('sin_x = ', sin_x)    \n",
        "print('math.sin(2) = ',math.sin(2))"
      ],
      "execution_count": 10,
      "outputs": [
        {
          "output_type": "stream",
          "text": [
            "Iteraciones:  5\n",
            "sin_x =  0.9092961359628027\n",
            "math.sin(2) =  0.9092974268256817\n"
          ],
          "name": "stdout"
        }
      ]
    }
  ]
}