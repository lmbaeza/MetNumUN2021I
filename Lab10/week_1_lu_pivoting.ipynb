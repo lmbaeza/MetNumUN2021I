{
  "nbformat": 4,
  "nbformat_minor": 0,
  "metadata": {
    "kernelspec": {
      "display_name": "Python 3",
      "language": "python",
      "name": "python3"
    },
    "language_info": {
      "codemirror_mode": {
        "name": "ipython",
        "version": 3
      },
      "file_extension": ".py",
      "mimetype": "text/x-python",
      "name": "python",
      "nbconvert_exporter": "python",
      "pygments_lexer": "ipython3",
      "version": "3.5.2"
    },
    "colab": {
      "name": "week_1_lu_pivoting.ipynb",
      "provenance": [],
      "collapsed_sections": []
    }
  },
  "cells": [
    {
      "cell_type": "markdown",
      "metadata": {
        "id": "rtiVulX646eB"
      },
      "source": [
        "# LAB10  Introduction to numerical analysis – Week 1 – Peer-graded Assignment: Solve a quadratic equation (Groups in Class)\n",
        "\n",
        "**Universidad Nacional de Colombia - Sede Bogotá**\n",
        " \n",
        " _**Metodos Numericos**_\n",
        "\n",
        " **Docente:** German Hernandez\n",
        "\n",
        " **Estudiante:**\n",
        " * Luis Miguel Báez Aponte - lmbaeza@unal.edu.co"
      ]
    },
    {
      "cell_type": "markdown",
      "metadata": {
        "id": "l1V-_RZonp7p"
      },
      "source": [
        "# I. $LU$ factorization of a square matrix"
      ]
    },
    {
      "cell_type": "markdown",
      "metadata": {
        "id": "Wa0OKpclnp71"
      },
      "source": [
        "Consider a simple naive implementation of the LU decomposition. \n",
        "\n",
        "Note that we're using the `numpy` arrays to represent matrices [do **not** use `np.matrix`]."
      ]
    },
    {
      "cell_type": "code",
      "metadata": {
        "collapsed": true,
        "id": "5RLaNszZnp72"
      },
      "source": [
        "import numpy as np\n",
        "\n",
        "def diy_lu(a):\n",
        "    \"\"\"Construct the LU decomposition of the input matrix.\n",
        "    \n",
        "    Naive LU decomposition: work column by column, accumulate elementary triangular matrices.\n",
        "    No pivoting.\n",
        "    \"\"\"\n",
        "    N = a.shape[0]\n",
        "    \n",
        "    u = a.copy()\n",
        "    L = np.eye(N)\n",
        "    for j in range(N-1):\n",
        "        lam = np.eye(N)\n",
        "        gamma = u[j+1:, j] / u[j, j]\n",
        "        lam[j+1:, j] = -gamma\n",
        "        u = lam @ u\n",
        "\n",
        "        lam[j+1:, j] = gamma\n",
        "        L = L @ lam\n",
        "    return L, u"
      ],
      "execution_count": 202,
      "outputs": []
    },
    {
      "cell_type": "code",
      "metadata": {
        "colab": {
          "base_uri": "https://localhost:8080/"
        },
        "id": "nV10LCJ9np73",
        "outputId": "f798bb0f-3d3a-4633-878b-95765c19c14e"
      },
      "source": [
        "# Now, generate a full rank matrix and test the naive implementation\n",
        "\n",
        "import numpy as np\n",
        "\n",
        "N = 6\n",
        "a = np.zeros((N, N), dtype=float)\n",
        "for i in range(N):\n",
        "    for j in range(N):\n",
        "        a[i, j] = 3. / (0.6*i*j + 1)\n",
        "\n",
        "np.linalg.matrix_rank(a)"
      ],
      "execution_count": 203,
      "outputs": [
        {
          "output_type": "execute_result",
          "data": {
            "text/plain": [
              "6"
            ]
          },
          "metadata": {
            "tags": []
          },
          "execution_count": 203
        }
      ]
    },
    {
      "cell_type": "code",
      "metadata": {
        "collapsed": true,
        "id": "LpwWAGLMnp75"
      },
      "source": [
        "# Tweak the printing of floating-point numbers, for clarity\n",
        "np.set_printoptions(precision=3)"
      ],
      "execution_count": 204,
      "outputs": []
    },
    {
      "cell_type": "code",
      "metadata": {
        "colab": {
          "base_uri": "https://localhost:8080/"
        },
        "id": "EA1IzR_Fnp75",
        "outputId": "6629ef8a-a8b3-4e34-d340-9cf1793314d2"
      },
      "source": [
        "L, u = diy_lu(a)\n",
        "\n",
        "print(L, \"\\n\")\n",
        "print(u, \"\\n\")\n",
        "\n",
        "# Quick sanity check: L times U must equal the original matrix, up to floating-point errors.\n",
        "print(L@u - a)"
      ],
      "execution_count": 205,
      "outputs": [
        {
          "output_type": "stream",
          "text": [
            "[[1.    0.    0.    0.    0.    0.   ]\n",
            " [1.    1.    0.    0.    0.    0.   ]\n",
            " [1.    1.455 1.    0.    0.    0.   ]\n",
            " [1.    1.714 1.742 1.    0.    0.   ]\n",
            " [1.    1.882 2.276 2.039 1.    0.   ]\n",
            " [1.    2.    2.671 2.944 2.354 1.   ]] \n",
            "\n",
            "[[ 3.000e+00  3.000e+00  3.000e+00  3.000e+00  3.000e+00  3.000e+00]\n",
            " [ 0.000e+00 -1.125e+00 -1.636e+00 -1.929e+00 -2.118e+00 -2.250e+00]\n",
            " [ 0.000e+00  0.000e+00  2.625e-01  4.574e-01  5.975e-01  7.013e-01]\n",
            " [ 0.000e+00  2.220e-16  0.000e+00 -2.197e-02 -4.480e-02 -6.469e-02]\n",
            " [ 0.000e+00 -4.528e-16  0.000e+00  6.939e-18  8.080e-04  1.902e-03]\n",
            " [ 0.000e+00  4.123e-16  0.000e+00 -1.634e-17  0.000e+00 -1.585e-05]] \n",
            "\n",
            "[[ 0.000e+00  0.000e+00  0.000e+00  0.000e+00  0.000e+00  0.000e+00]\n",
            " [ 0.000e+00  0.000e+00  0.000e+00  0.000e+00  0.000e+00  0.000e+00]\n",
            " [ 0.000e+00  0.000e+00 -1.110e-16  1.110e-16  1.110e-16 -5.551e-17]\n",
            " [ 0.000e+00  0.000e+00  3.331e-16 -2.220e-16 -5.551e-17  0.000e+00]\n",
            " [ 0.000e+00  0.000e+00  0.000e+00 -1.110e-16 -1.665e-16  0.000e+00]\n",
            " [ 0.000e+00  0.000e+00 -1.110e-16 -2.776e-16  1.110e-16  1.110e-16]]\n"
          ],
          "name": "stdout"
        }
      ]
    },
    {
      "cell_type": "markdown",
      "metadata": {
        "id": "A06BFPw9np76"
      },
      "source": [
        "# II. The need for pivoting"
      ]
    },
    {
      "cell_type": "markdown",
      "metadata": {
        "id": "7O4HagYfnp77"
      },
      "source": [
        "Let's tweak the matrix a little bit, we only change a single element:"
      ]
    },
    {
      "cell_type": "code",
      "metadata": {
        "collapsed": true,
        "id": "VgrEvtwZnp78"
      },
      "source": [
        "a1 = a.copy()\n",
        "a1[1, 1] = 3"
      ],
      "execution_count": 206,
      "outputs": []
    },
    {
      "cell_type": "markdown",
      "metadata": {
        "id": "_COPZF2tnp78"
      },
      "source": [
        "Resulting matix still has full rank, but the naive LU routine breaks down."
      ]
    },
    {
      "cell_type": "code",
      "metadata": {
        "colab": {
          "base_uri": "https://localhost:8080/"
        },
        "id": "rJeXhz_3np79",
        "outputId": "f79e5e0d-95c3-4d32-a5f6-ce6b8c248ee0"
      },
      "source": [
        "np.linalg.matrix_rank(a1)"
      ],
      "execution_count": 207,
      "outputs": [
        {
          "output_type": "execute_result",
          "data": {
            "text/plain": [
              "6"
            ]
          },
          "metadata": {
            "tags": []
          },
          "execution_count": 207
        }
      ]
    },
    {
      "cell_type": "code",
      "metadata": {
        "colab": {
          "base_uri": "https://localhost:8080/"
        },
        "id": "OcHcLlYtnp79",
        "outputId": "4bc70712-aef9-4466-d82a-8e576fb13cf6"
      },
      "source": [
        "l, u = diy_lu(a1)\n",
        "\n",
        "print(l, u)"
      ],
      "execution_count": 208,
      "outputs": [
        {
          "output_type": "stream",
          "text": [
            "[[nan nan nan nan nan nan]\n",
            " [nan nan nan nan nan nan]\n",
            " [nan nan nan nan nan nan]\n",
            " [nan nan nan nan nan nan]\n",
            " [nan nan nan nan nan nan]\n",
            " [nan nan nan nan nan nan]] [[nan nan nan nan nan nan]\n",
            " [nan nan nan nan nan nan]\n",
            " [nan nan nan nan nan nan]\n",
            " [nan nan nan nan nan nan]\n",
            " [nan nan nan nan nan nan]\n",
            " [nan nan nan nan nan nan]]\n"
          ],
          "name": "stdout"
        },
        {
          "output_type": "stream",
          "text": [
            "/usr/local/lib/python3.7/dist-packages/ipykernel_launcher.py:15: RuntimeWarning: divide by zero encountered in true_divide\n",
            "  from ipykernel import kernelapp as app\n",
            "/usr/local/lib/python3.7/dist-packages/ipykernel_launcher.py:17: RuntimeWarning: invalid value encountered in matmul\n",
            "/usr/local/lib/python3.7/dist-packages/ipykernel_launcher.py:20: RuntimeWarning: invalid value encountered in matmul\n",
            "/usr/local/lib/python3.7/dist-packages/ipykernel_launcher.py:15: RuntimeWarning: invalid value encountered in true_divide\n",
            "  from ipykernel import kernelapp as app\n"
          ],
          "name": "stderr"
        }
      ]
    },
    {
      "cell_type": "markdown",
      "metadata": {
        "id": "g5pYUPSJnp7-"
      },
      "source": [
        "### Test II.1\n",
        "\n",
        "For a naive LU decomposition to work, all leading minors of a matrix should be non-zero. Check if this requirement is satisfied for the two matrices `a` and `a1`.\n",
        "\n",
        "(20% of the grade)"
      ]
    },
    {
      "cell_type": "code",
      "metadata": {
        "collapsed": true,
        "colab": {
          "base_uri": "https://localhost:8080/"
        },
        "id": "SvJkjfWZnp7-",
        "outputId": "1a1c673c-8049-4594-fbcd-93c4d5dd71ae"
      },
      "source": [
        "def leading_minors_test(A):\n",
        "  \"\"\"\n",
        "  Function to check all leading Minors of a Matrix not equal to 0\n",
        "  \"\"\"\n",
        "  N = A.shape[0]\n",
        "  u = A.copy()\n",
        "  L = np.eye(N)\n",
        "  for j in range(N-1):\n",
        "      lam = np.eye(N)\n",
        "      if u[j, j] == 0.0:\n",
        "        return False\n",
        "      gamma = u[j+1:, j] / u[j, j]\n",
        "      lam[j+1:, j] = -gamma\n",
        "      u = lam @ u\n",
        "  return True\n",
        "\n",
        "leading_minors_test(a), leading_minors_test(a1)"
      ],
      "execution_count": 209,
      "outputs": [
        {
          "output_type": "execute_result",
          "data": {
            "text/plain": [
              "(True, False)"
            ]
          },
          "metadata": {
            "tags": []
          },
          "execution_count": 209
        }
      ]
    },
    {
      "cell_type": "markdown",
      "metadata": {
        "id": "Or7OsT_Dnp7-"
      },
      "source": [
        "### Test II.2\n",
        "\n",
        "1. Modify the `diy_lu` routine to implement column pivoting. Keep track of pivots, you can either construct a permutation matrix, or a swap array (your choice).\n",
        "\n",
        "(40% of the grade)\n",
        "\n",
        "2. Implement a function to reconstruct the original matrix from a decompositon. Test your routines on the matrices `a` and `a1`.\n",
        "\n",
        "(40% of the grade)"
      ]
    },
    {
      "cell_type": "markdown",
      "metadata": {
        "id": "Rq1jd7251zwg"
      },
      "source": [
        "# Answer 1"
      ]
    },
    {
      "cell_type": "code",
      "metadata": {
        "collapsed": true,
        "id": "cKff80WEnp7_"
      },
      "source": [
        "def diy_lu_column_pivot(a):\n",
        "  \"\"\"Construct the LU decomposition of the input matrix.\n",
        "\n",
        "  LU decomposition with pivot: work column by column, accumulate elementary triangular matrices L @ np.transpose(Pj) .\n",
        "  \"\"\"\n",
        "  N = a.shape[0]\n",
        "  u = a.copy()\n",
        "  L = np.eye(N)\n",
        "\n",
        "  P1 = np.eye(N) # Permutacion Inicial 1\n",
        "  P2 = np.eye(N) # Permutacion Inicial 2\n",
        "\n",
        "  for j in range(N-1):\n",
        "    lam = np.eye(N)\n",
        "    i = j\n",
        "    while (u[i, i] == 0.0 and i < N-1):\n",
        "      tmp = np.argmax(abs(u[i:,i])) + i\n",
        "      P2[i], P2[tmp] = P2[tmp], P2[i].copy()\n",
        "      u = P2 @ u\n",
        "      i += 1\n",
        "    gamma = u[j+1:, j] / u[j, j]\n",
        "    lam[j+1:, j] = -gamma\n",
        "    u = lam @ u\n",
        "\n",
        "    lam[j+1:, j] = gamma\n",
        "    L = L @ lam @ P1\n",
        "  return  L, u, P"
      ],
      "execution_count": 210,
      "outputs": []
    },
    {
      "cell_type": "code",
      "metadata": {
        "colab": {
          "base_uri": "https://localhost:8080/"
        },
        "id": "yPkMRrEB1-PC",
        "outputId": "9e5b9921-a220-484d-acd0-c18ead1d1805"
      },
      "source": [
        "N = 6\n",
        "a = np.zeros((N, N), dtype=float)\n",
        "for i in range(N):\n",
        "    for j in range(N):\n",
        "        a[i, j] = 3. / (0.6*i*j + 1)\n",
        "\n",
        "L, u, P = diy_lu_column_pivot(a)\n",
        "\n",
        "print(\"L\\n\",L, \"\\n\")\n",
        "print(\"u\\n\",u, \"\\n\")\n",
        "print(\"L@u\\n\", L@u, \"\\n\")\n",
        "print(\"a\\n\",a, \"\\n\")\n",
        "print(\"P\\n\", P, \"\\n\")\n",
        "print(\"a\\n\",a, \"\\n\")"
      ],
      "execution_count": 211,
      "outputs": [
        {
          "output_type": "stream",
          "text": [
            "L\n",
            " [[1.    0.    0.    0.    0.    0.   ]\n",
            " [1.    1.    0.    0.    0.    0.   ]\n",
            " [1.    1.455 1.    0.    0.    0.   ]\n",
            " [1.    1.714 1.742 1.    0.    0.   ]\n",
            " [1.    1.882 2.276 2.039 1.    0.   ]\n",
            " [1.    2.    2.671 2.944 2.354 1.   ]] \n",
            "\n",
            "u\n",
            " [[ 3.000e+00  3.000e+00  3.000e+00  3.000e+00  3.000e+00  3.000e+00]\n",
            " [ 0.000e+00 -1.125e+00 -1.636e+00 -1.929e+00 -2.118e+00 -2.250e+00]\n",
            " [ 0.000e+00  0.000e+00  2.625e-01  4.574e-01  5.975e-01  7.013e-01]\n",
            " [ 0.000e+00  2.220e-16  0.000e+00 -2.197e-02 -4.480e-02 -6.469e-02]\n",
            " [ 0.000e+00 -4.528e-16  0.000e+00  6.939e-18  8.080e-04  1.902e-03]\n",
            " [ 0.000e+00  4.123e-16  0.000e+00 -1.634e-17  0.000e+00 -1.585e-05]] \n",
            "\n",
            "L@u\n",
            " [[3.    3.    3.    3.    3.    3.   ]\n",
            " [3.    1.875 1.364 1.071 0.882 0.75 ]\n",
            " [3.    1.364 0.882 0.652 0.517 0.429]\n",
            " [3.    1.071 0.652 0.469 0.366 0.3  ]\n",
            " [3.    0.882 0.517 0.366 0.283 0.231]\n",
            " [3.    0.75  0.429 0.3   0.231 0.188]] \n",
            "\n",
            "a\n",
            " [[3.    3.    3.    3.    3.    3.   ]\n",
            " [3.    1.875 1.364 1.071 0.882 0.75 ]\n",
            " [3.    1.364 0.882 0.652 0.517 0.429]\n",
            " [3.    1.071 0.652 0.469 0.366 0.3  ]\n",
            " [3.    0.882 0.517 0.366 0.283 0.231]\n",
            " [3.    0.75  0.429 0.3   0.231 0.188]] \n",
            "\n",
            "P\n",
            " [[1. 0. 0. 0.]\n",
            " [0. 1. 0. 0.]\n",
            " [0. 0. 1. 0.]\n",
            " [0. 0. 0. 1.]] \n",
            "\n",
            "a\n",
            " [[3.    3.    3.    3.    3.    3.   ]\n",
            " [3.    1.875 1.364 1.071 0.882 0.75 ]\n",
            " [3.    1.364 0.882 0.652 0.517 0.429]\n",
            " [3.    1.071 0.652 0.469 0.366 0.3  ]\n",
            " [3.    0.882 0.517 0.366 0.283 0.231]\n",
            " [3.    0.75  0.429 0.3   0.231 0.188]] \n",
            "\n"
          ],
          "name": "stdout"
        }
      ]
    },
    {
      "cell_type": "code",
      "metadata": {
        "colab": {
          "base_uri": "https://localhost:8080/"
        },
        "id": "gHhPlotg1_3t",
        "outputId": "9d32482b-4220-4b05-82c8-adbd8056a2be"
      },
      "source": [
        "a1 = a.copy()\n",
        "a1[1, 1] = 3\n",
        "\n",
        "L, u , P = diy_lu_column_pivot(a1)\n",
        "\n",
        "print(\"L\\n\",L, \"\\n\")\n",
        "print(\"u\\n\",u, \"\\n\")\n",
        "print(\"L@u\\n\", L@u, \"\\n\")\n",
        "print(\"a\\n\",a, \"\\n\")\n",
        "print(\"P\\n\", P, \"\\n\")\n",
        "print(\"a\\n\",a, \"\\n\")"
      ],
      "execution_count": 212,
      "outputs": [
        {
          "output_type": "stream",
          "text": [
            "L\n",
            " [[1.000e+00 0.000e+00 0.000e+00 0.000e+00 0.000e+00 0.000e+00]\n",
            " [1.000e+00 1.000e+00 0.000e+00 0.000e+00 0.000e+00 0.000e+00]\n",
            " [1.000e+00 7.273e-01 1.000e+00 0.000e+00 0.000e+00 0.000e+00]\n",
            " [1.000e+00 8.571e-01 5.807e-01 1.000e+00 0.000e+00 0.000e+00]\n",
            " [1.000e+00 9.412e-01 2.529e-01 6.797e-01 1.000e+00 0.000e+00]\n",
            " [1.000e+00 0.000e+00 6.611e+00 9.937e+01 2.597e+03 1.000e+00]] \n",
            "\n",
            "u\n",
            " [[ 3.000e+00  3.000e+00  3.000e+00  3.000e+00  3.000e+00  3.000e+00]\n",
            " [ 0.000e+00 -2.250e+00 -2.571e+00 -2.700e+00 -2.769e+00 -2.812e+00]\n",
            " [ 0.000e+00  0.000e+00 -2.475e-01 -3.842e-01 -4.688e-01 -5.260e-01]\n",
            " [ 0.000e+00  2.220e-16  0.000e+00  6.152e-03  1.172e-02  1.617e-02]\n",
            " [ 0.000e+00 -1.509e-16  0.000e+00  0.000e+00 -7.044e-05 -1.585e-04]\n",
            " [ 0.000e+00  3.699e-13  0.000e+00  0.000e+00  0.000e+00  3.202e-02]] \n",
            "\n",
            "L@u\n",
            " [[3.    3.    3.    3.    3.    3.   ]\n",
            " [3.    0.75  0.429 0.3   0.231 0.188]\n",
            " [3.    1.364 0.882 0.652 0.517 0.429]\n",
            " [3.    1.071 0.652 0.469 0.366 0.3  ]\n",
            " [3.    0.882 0.517 0.366 0.283 0.231]\n",
            " [3.    3.    1.364 1.071 0.882 0.75 ]] \n",
            "\n",
            "a\n",
            " [[3.    3.    3.    3.    3.    3.   ]\n",
            " [3.    1.875 1.364 1.071 0.882 0.75 ]\n",
            " [3.    1.364 0.882 0.652 0.517 0.429]\n",
            " [3.    1.071 0.652 0.469 0.366 0.3  ]\n",
            " [3.    0.882 0.517 0.366 0.283 0.231]\n",
            " [3.    0.75  0.429 0.3   0.231 0.188]] \n",
            "\n",
            "P\n",
            " [[1. 0. 0. 0.]\n",
            " [0. 1. 0. 0.]\n",
            " [0. 0. 1. 0.]\n",
            " [0. 0. 0. 1.]] \n",
            "\n",
            "a\n",
            " [[3.    3.    3.    3.    3.    3.   ]\n",
            " [3.    1.875 1.364 1.071 0.882 0.75 ]\n",
            " [3.    1.364 0.882 0.652 0.517 0.429]\n",
            " [3.    1.071 0.652 0.469 0.366 0.3  ]\n",
            " [3.    0.882 0.517 0.366 0.283 0.231]\n",
            " [3.    0.75  0.429 0.3   0.231 0.188]] \n",
            "\n"
          ],
          "name": "stdout"
        }
      ]
    },
    {
      "cell_type": "code",
      "metadata": {
        "colab": {
          "base_uri": "https://localhost:8080/"
        },
        "id": "V4BfyIbQ2BA6",
        "outputId": "37ecd0aa-4053-4991-a092-a72009ea03d4"
      },
      "source": [
        "a2 = np.array([[4,3,1], [5,7,0], [9,9,3], [8,2,4]])\n",
        "\n",
        "L, u, P = diy_lu_column_pivot(a2)\n",
        "\n",
        "print(\"L\\n\",L, \"\\n\")\n",
        "print(\"u\\n\",u, \"\\n\")\n",
        "print(\"L@u\\n\", L@u, \"\\n\")\n",
        "print(\"a\\n\",a, \"\\n\")\n",
        "print(\"P\\n\", P, \"\\n\")\n",
        "print(\"P@L@u\\n\", P@L@u, \"\\n\")\n",
        "print(\"a\\n\",a, \"\\n\")"
      ],
      "execution_count": 213,
      "outputs": [
        {
          "output_type": "stream",
          "text": [
            "L\n",
            " [[ 1.     0.     0.     0.   ]\n",
            " [ 1.25   1.     0.     0.   ]\n",
            " [ 2.25   0.692  1.     0.   ]\n",
            " [ 2.    -1.231  0.286  1.   ]] \n",
            "\n",
            "u\n",
            " [[ 4.     3.     1.   ]\n",
            " [ 0.     3.25  -1.25 ]\n",
            " [ 0.     0.     1.615]\n",
            " [ 0.     0.     0.   ]] \n",
            "\n",
            "L@u\n",
            " [[4. 3. 1.]\n",
            " [5. 7. 0.]\n",
            " [9. 9. 3.]\n",
            " [8. 2. 4.]] \n",
            "\n",
            "a\n",
            " [[3.    3.    3.    3.    3.    3.   ]\n",
            " [3.    1.875 1.364 1.071 0.882 0.75 ]\n",
            " [3.    1.364 0.882 0.652 0.517 0.429]\n",
            " [3.    1.071 0.652 0.469 0.366 0.3  ]\n",
            " [3.    0.882 0.517 0.366 0.283 0.231]\n",
            " [3.    0.75  0.429 0.3   0.231 0.188]] \n",
            "\n",
            "P\n",
            " [[1. 0. 0. 0.]\n",
            " [0. 1. 0. 0.]\n",
            " [0. 0. 1. 0.]\n",
            " [0. 0. 0. 1.]] \n",
            "\n",
            "P@L@u\n",
            " [[4. 3. 1.]\n",
            " [5. 7. 0.]\n",
            " [9. 9. 3.]\n",
            " [8. 2. 4.]] \n",
            "\n",
            "a\n",
            " [[3.    3.    3.    3.    3.    3.   ]\n",
            " [3.    1.875 1.364 1.071 0.882 0.75 ]\n",
            " [3.    1.364 0.882 0.652 0.517 0.429]\n",
            " [3.    1.071 0.652 0.469 0.366 0.3  ]\n",
            " [3.    0.882 0.517 0.366 0.283 0.231]\n",
            " [3.    0.75  0.429 0.3   0.231 0.188]] \n",
            "\n"
          ],
          "name": "stdout"
        }
      ]
    },
    {
      "cell_type": "markdown",
      "metadata": {
        "id": "Up8_cIXD16TI"
      },
      "source": [
        "# Answer 2"
      ]
    },
    {
      "cell_type": "code",
      "metadata": {
        "id": "9dSLpAfv1toW"
      },
      "source": [
        "def diy_lu_column_pivot_reconstruct(a):\n",
        "    \"\"\"Construct the LU decomposition of the input matrix.\n",
        "    \n",
        "    LU decomposition with pivot: work column by column, accumulate elementary triangular matrices L @ np.transpose(Pj) .\n",
        "    \"\"\"\n",
        "    N = a.shape[0]\n",
        "\n",
        "    u = a.copy()\n",
        "    L = np.eye(N)\n",
        "\n",
        "    for j in range(1, N-1):\n",
        "        lam = np.eye(N)\n",
        "        gamma = u[j-1:, j] / u[j, j]\n",
        "        lam[j-1:, j] = -gamma\n",
        "        u = lam @ u\n",
        "\n",
        "        lam[j-1:, j] = gamma\n",
        "        L = L @ lam\n",
        "\n",
        "    return  L, u"
      ],
      "execution_count": 214,
      "outputs": []
    },
    {
      "cell_type": "code",
      "metadata": {
        "id": "w7eHIJ_e2DsD",
        "colab": {
          "base_uri": "https://localhost:8080/"
        },
        "outputId": "96142548-7e91-438f-cf4a-94e67ac75b74"
      },
      "source": [
        "N = 6\n",
        "a = np.zeros((N, N), dtype=float)\n",
        "for i in range(N):\n",
        "    for j in range(N):\n",
        "        a[i, j] = 3. / (0.6*i*j + 1)\n",
        "\n",
        "L, u = diy_lu_column_pivot_reconstruct(a)\n",
        "\n",
        "print(\"L\\n\",L, \"\\n\")\n",
        "print(\"u\\n\",u, \"\\n\")\n",
        "print(\"L@u\\n\", L@u, \"\\n\")\n",
        "print(\"a\\n\",a, \"\\n\")"
      ],
      "execution_count": 215,
      "outputs": [
        {
          "output_type": "stream",
          "text": [
            "L\n",
            " [[1.000e+00 1.600e+00 1.995e+01 6.228e+02 4.605e+04 0.000e+00]\n",
            " [0.000e+00 1.000e+00 1.247e+01 3.893e+02 2.878e+04 0.000e+00]\n",
            " [0.000e+00 7.273e-01 1.007e+01 3.143e+02 2.324e+04 0.000e+00]\n",
            " [0.000e+00 5.714e-01 8.285e+00 2.597e+02 1.920e+04 0.000e+00]\n",
            " [0.000e+00 4.706e-01 7.005e+00 2.202e+02 1.628e+04 0.000e+00]\n",
            " [0.000e+00 4.000e-01 6.055e+00 1.908e+02 1.411e+04 1.000e+00]] \n",
            "\n",
            "u\n",
            " [[-1.800e+00 -1.665e-16  8.182e-01  1.286e+00  1.588e+00  1.800e+00]\n",
            " [-1.320e+01 -1.875e+00 -4.242e-17  5.124e-01  6.694e-01  7.071e-01]\n",
            " [-1.129e+01  0.000e+00  1.094e-01 -7.476e-19 -6.982e-02 -1.075e-01]\n",
            " [-1.100e+01  0.000e+00  0.000e+00 -4.069e-03  9.253e-20  4.533e-03]\n",
            " [-1.443e-01  0.000e+00  0.000e+00  0.000e+00  8.416e-05  1.585e-04]\n",
            " [ 6.152e-02  0.000e+00  0.000e+00  0.000e+00  0.000e+00  1.056e-06]] \n",
            "\n",
            "L@u\n",
            " [[-1.374e+04 -3.000e+00  3.000e+00 -4.286e-01  5.142e+00  1.091e+01]\n",
            " [-8.588e+03 -1.875e+00  1.364e+00 -1.071e+00  2.221e+00  5.694e+00]\n",
            " [-6.934e+03 -1.364e+00  1.101e+00 -9.063e-01  1.740e+00  4.541e+00]\n",
            " [-5.728e+03 -1.071e+00  9.063e-01 -7.639e-01  1.420e+00  3.734e+00]\n",
            " [-4.857e+03 -8.824e-01  7.662e-01 -6.550e-01  1.196e+00  3.160e+00]\n",
            " [-4.209e+03 -7.500e-01  6.623e-01 -5.715e-01  1.033e+00  2.734e+00]] \n",
            "\n",
            "a\n",
            " [[3.    3.    3.    3.    3.    3.   ]\n",
            " [3.    1.875 1.364 1.071 0.882 0.75 ]\n",
            " [3.    1.364 0.882 0.652 0.517 0.429]\n",
            " [3.    1.071 0.652 0.469 0.366 0.3  ]\n",
            " [3.    0.882 0.517 0.366 0.283 0.231]\n",
            " [3.    0.75  0.429 0.3   0.231 0.188]] \n",
            "\n"
          ],
          "name": "stdout"
        }
      ]
    },
    {
      "cell_type": "code",
      "metadata": {
        "id": "4AZBw8k82E3t",
        "colab": {
          "base_uri": "https://localhost:8080/"
        },
        "outputId": "c51b343b-f3bc-4269-be07-55cad17f4af0"
      },
      "source": [
        "a1 = a.copy()\n",
        "a1[1, 1] = 3\n",
        "\n",
        "L, u, = diy_lu_column_pivot_reconstruct(a1)\n",
        "\n",
        "print(\"L\\n\",L, \"\\n\")\n",
        "print(\"u\\n\",u, \"\\n\")\n",
        "print(\"L@u\\n\", L@u, \"\\n\")\n",
        "print(\"a2\\n\",a1, \"\\n\")\n",
        "\n",
        "# Quick sanity check: L times U must equal the original matrix, up to floating-point errors.\n",
        "# print(\"L@u - a1\\n\",L@u - a1, \"\\n\")"
      ],
      "execution_count": 216,
      "outputs": [
        {
          "output_type": "stream",
          "text": [
            "L\n",
            " [[ 1.000e+00  1.000e+00 -5.194e+00 -4.816e+01 -6.549e+03  0.000e+00]\n",
            " [ 0.000e+00  1.000e+00 -5.194e+00 -4.816e+01 -6.549e+03  0.000e+00]\n",
            " [ 0.000e+00  4.545e-01 -1.361e+00 -1.262e+01 -1.716e+03  0.000e+00]\n",
            " [ 0.000e+00  3.571e-01 -1.226e+00 -1.037e+01 -1.410e+03  0.000e+00]\n",
            " [ 0.000e+00  2.941e-01 -1.085e+00 -8.807e+00 -1.197e+03  0.000e+00]\n",
            " [ 0.000e+00  2.500e-01 -9.647e-01 -7.653e+00 -1.039e+03  1.000e+00]] \n",
            "\n",
            "u\n",
            " [[ 0.000e+00  0.000e+00  1.636e+00  1.929e+00  2.118e+00  2.250e+00]\n",
            " [ 5.500e+00 -3.000e+00 -1.061e-16 -2.135e-01 -2.789e-01 -2.946e-01]\n",
            " [-9.973e+00  0.000e+00 -2.625e-01 -1.069e-17  9.116e-02  1.257e-01]\n",
            " [-3.691e+01  0.000e+00  0.000e+00  1.781e-02 -2.112e-18 -1.400e-02]\n",
            " [-2.649e-01  0.000e+00  0.000e+00  0.000e+00 -1.645e-04 -2.722e-04]\n",
            " [ 1.038e-01  0.000e+00  0.000e+00  0.000e+00  0.000e+00 -1.846e-06]] \n",
            "\n",
            "L@u\n",
            " [[ 3.570e+03 -3.000e+00  3.000e+00  8.571e-01  2.442e+00  3.760e+00]\n",
            " [ 3.570e+03 -3.000e+00  1.364e+00 -1.071e+00  3.245e-01  1.510e+00]\n",
            " [ 9.365e+02 -1.364e+00  3.573e-01 -3.219e-01  3.135e-02  3.389e-01]\n",
            " [ 7.703e+02 -1.071e+00  3.219e-01 -2.609e-01  2.046e-02  2.696e-01]\n",
            " [ 6.545e+02 -8.824e-01  2.849e-01 -2.197e-01  1.581e-02  2.260e-01]\n",
            " [ 5.688e+02 -7.500e-01  2.532e-01 -1.897e-01  1.319e-02  1.951e-01]] \n",
            "\n",
            "a2\n",
            " [[3.    3.    3.    3.    3.    3.   ]\n",
            " [3.    3.    1.364 1.071 0.882 0.75 ]\n",
            " [3.    1.364 0.882 0.652 0.517 0.429]\n",
            " [3.    1.071 0.652 0.469 0.366 0.3  ]\n",
            " [3.    0.882 0.517 0.366 0.283 0.231]\n",
            " [3.    0.75  0.429 0.3   0.231 0.188]] \n",
            "\n"
          ],
          "name": "stdout"
        }
      ]
    },
    {
      "cell_type": "code",
      "metadata": {
        "id": "dKTVM5lv2GOw",
        "colab": {
          "base_uri": "https://localhost:8080/"
        },
        "outputId": "1347e7b7-7445-4dae-990e-b47886e0d7a0"
      },
      "source": [
        "a2 = np.array([[4,3,1], [5,7,0], [9,9,3], [8,2,4]])\n",
        "\n",
        "L, u, = diy_lu_column_pivot_reconstruct(a2)\n",
        "\n",
        "print(\"L\\n\",L, \"\\n\")\n",
        "print(\"u\\n\",u, \"\\n\")\n",
        "print(\"L@u\\n\", L@u, \"\\n\")\n",
        "print(\"a2\\n\",a2, \"\\n\")\n",
        "\n",
        "# Quick sanity check: L times U must equal the original matrix, up to floating-point errors.\n",
        "print(\"L@u - a2\\n\",L@u - a2, \"\\n\")"
      ],
      "execution_count": 217,
      "outputs": [
        {
          "output_type": "stream",
          "text": [
            "L\n",
            " [[1.    0.429 0.    0.   ]\n",
            " [0.    1.    0.    0.   ]\n",
            " [0.    1.286 1.    0.   ]\n",
            " [0.    0.286 1.333 1.   ]] \n",
            "\n",
            "u\n",
            " [[ 1.857e+00  1.665e-16  1.000e+00]\n",
            " [-5.000e+00 -7.000e+00  0.000e+00]\n",
            " [-2.571e+00  0.000e+00 -3.000e+00]\n",
            " [ 3.143e+00  0.000e+00  0.000e+00]] \n",
            "\n",
            "L@u\n",
            " [[-0.286 -3.     1.   ]\n",
            " [-5.    -7.     0.   ]\n",
            " [-9.    -9.    -3.   ]\n",
            " [-1.714 -2.    -4.   ]] \n",
            "\n",
            "a2\n",
            " [[4 3 1]\n",
            " [5 7 0]\n",
            " [9 9 3]\n",
            " [8 2 4]] \n",
            "\n",
            "L@u - a2\n",
            " [[ -4.286  -6.      0.   ]\n",
            " [-10.    -14.      0.   ]\n",
            " [-18.    -18.     -6.   ]\n",
            " [ -9.714  -4.     -8.   ]] \n",
            "\n"
          ],
          "name": "stdout"
        }
      ]
    }
  ]
}