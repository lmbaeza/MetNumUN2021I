{
  "nbformat": 4,
  "nbformat_minor": 0,
  "metadata": {
    "colab": {
      "name": "lab9_lmbaeza_taylor_e_to_x_error.ipynb",
      "provenance": [],
      "collapsed_sections": []
    },
    "kernelspec": {
      "name": "python3",
      "display_name": "Python 3"
    }
  },
  "cells": [
    {
      "cell_type": "markdown",
      "metadata": {
        "id": "4eKr-6CyYBWZ"
      },
      "source": [
        "# LAB 9 Taylor_e_to_x_error.ipynb\n",
        "\n",
        "**Universidad Nacional de Colombia - Sede Bogotá**\n",
        "\n",
        "**Metodos Numericos**\n",
        "\n",
        "**Docente:** _German Hernandez_\n",
        "\n",
        "**Estudiante:**\n",
        "  * Luis Miguel Báez Aponte - lmbaeza@unal.edu.co"
      ]
    },
    {
      "cell_type": "code",
      "metadata": {
        "id": "vLwDl129-jhR",
        "colab": {
          "base_uri": "https://localhost:8080/"
        },
        "outputId": "681054e3-3ff2-4320-eee3-76e57f4b89dd"
      },
      "source": [
        "import math\n",
        "\n",
        "x = 2\n",
        "e_to_2 = x**0/math.factorial(0) + x**1/math.factorial(1) + x**2/math.factorial(2) + x**3/math.factorial(3) + x**4/math.factorial(4)\n",
        "print(e_to_2)"
      ],
      "execution_count": 1,
      "outputs": [
        {
          "output_type": "stream",
          "text": [
            "7.0\n"
          ],
          "name": "stdout"
        }
      ]
    },
    {
      "cell_type": "code",
      "metadata": {
        "id": "32L27d0r_EwV",
        "colab": {
          "base_uri": "https://localhost:8080/"
        },
        "outputId": "b624e090-5bcd-45ce-9834-c2a1f8fc3d07"
      },
      "source": [
        "print(math.exp(2))"
      ],
      "execution_count": 2,
      "outputs": [
        {
          "output_type": "stream",
          "text": [
            "7.38905609893065\n"
          ],
          "name": "stdout"
        }
      ]
    },
    {
      "cell_type": "code",
      "metadata": {
        "id": "xTjBEI-s_KO8",
        "colab": {
          "base_uri": "https://localhost:8080/"
        },
        "outputId": "db2e508c-08db-4865-fa0e-6f0122139a17"
      },
      "source": [
        "import math\n",
        "\n",
        "x = 2\n",
        "e_to_2 = 0\n",
        "for i in range(10):\n",
        "    e_to_2 += x**i/math.factorial(i) \n",
        "print(e_to_2)"
      ],
      "execution_count": 3,
      "outputs": [
        {
          "output_type": "stream",
          "text": [
            "7.3887125220458545\n"
          ],
          "name": "stdout"
        }
      ]
    },
    {
      "cell_type": "markdown",
      "metadata": {
        "id": "CeFgUwtNfwKO"
      },
      "source": [
        "For the Taylor series for $f(x) = e^x$ about $c=0$ (Maclaurin) \n",
        "\n",
        "$$ E_n = \\frac{f^{(n+1)}(\\xi)}{(n+1)!}(x-c)^{(n+1)} = \\frac{e^\\xi}{(n+1)!}x^{(n+1)} \\le  \\frac{e^x}{(n+1)!}x^{(n+1)},\\text{ given that } $$\n",
        "\n",
        "\n",
        "If we want $E_n \\le \\epsilon$ then we need $n$ such that because $e^x \\ge e^\\xi$, for  $c=0 \\le \\xi \\le x$ \n",
        "\n",
        "\n",
        "$$ \\frac{e^x}{(n+1)!}x^{(n+1)} < \\epsilon$$ \n",
        "\n",
        "because $e^x \\ge e^\\xi$, for  $0 \\le \\xi \\le x$.\n"
      ]
    },
    {
      "cell_type": "code",
      "metadata": {
        "id": "ZIEObg2JbjfY",
        "colab": {
          "base_uri": "https://localhost:8080/"
        },
        "outputId": "cfb203cc-782b-49b6-e26c-7ef668237c73"
      },
      "source": [
        "import math\n",
        "\n",
        "x = 10\n",
        "epsilon = 10**(-4)\n",
        "\n",
        "for k in range(1000):\n",
        "  if (  ( (math.exp(x) * x**(k+1)) / math.factorial(k+1) ) < epsilon):\n",
        "    break\n",
        "print(k)\n",
        "\n",
        "e_to_x = 0\n",
        "for i in range(k):\n",
        "    print(i,' ',e_to_x, ' delta ', x**i/math.factorial(i))\n",
        "    e_to_x += x**i/math.factorial(i) \n",
        "    \n",
        "print('math.exp(10) = ',math.exp(10))"
      ],
      "execution_count": 4,
      "outputs": [
        {
          "output_type": "stream",
          "text": [
            "40\n",
            "0   0  delta  1.0\n",
            "1   1.0  delta  10.0\n",
            "2   11.0  delta  50.0\n",
            "3   61.0  delta  166.66666666666666\n",
            "4   227.66666666666666  delta  416.6666666666667\n",
            "5   644.3333333333334  delta  833.3333333333334\n",
            "6   1477.6666666666667  delta  1388.888888888889\n",
            "7   2866.5555555555557  delta  1984.126984126984\n",
            "8   4850.68253968254  delta  2480.15873015873\n",
            "9   7330.84126984127  delta  2755.731922398589\n",
            "10   10086.573192239859  delta  2755.731922398589\n",
            "11   12842.305114638448  delta  2505.210838544172\n",
            "12   15347.51595318262  delta  2087.67569878681\n",
            "13   17435.191651969428  delta  1605.9043836821616\n",
            "14   19041.09603565159  delta  1147.0745597729724\n",
            "15   20188.170595424563  delta  764.7163731819817\n",
            "16   20952.886968606545  delta  477.9477332387385\n",
            "17   21430.834701845284  delta  281.14572543455205\n",
            "18   21711.980427279836  delta  156.19206968586226\n",
            "19   21868.172496965697  delta  82.2063524662433\n",
            "20   21950.37884943194  delta  41.10317623312165\n",
            "21   21991.482025665064  delta  19.572941063391262\n",
            "22   22011.054966728454  delta  8.896791392450574\n",
            "23   22019.951758120904  delta  3.868170170630684\n",
            "24   22023.819928291534  delta  1.6117375710961184\n",
            "25   22025.43166586263  delta  0.6446950284384474\n",
            "26   22026.076360891067  delta  0.24795962632247975\n",
            "27   22026.32432051739  delta  0.09183689863795547\n",
            "28   22026.416157416028  delta  0.03279889237069838\n",
            "29   22026.4489563084  delta  0.011309962886447717\n",
            "30   22026.460266271286  delta  0.003769987628815906\n",
            "31   22026.464036258916  delta  0.001216125041553518\n",
            "32   22026.465252383958  delta  0.00038003907548547436\n",
            "33   22026.465632423035  delta  0.0001151633562077195\n",
            "34   22026.46574758639  delta  3.3871575355211616e-05\n",
            "35   22026.465781457966  delta  9.677592958631891e-06\n",
            "36   22026.465791135557  delta  2.6882202662866364e-06\n",
            "37   22026.465793823776  delta  7.265460179153071e-07\n",
            "38   22026.46579455032  delta  1.9119632050402818e-07\n",
            "39   22026.465794741518  delta  4.9024697565135436e-08\n",
            "math.exp(10) =  22026.465794806718\n"
          ],
          "name": "stdout"
        }
      ]
    },
    {
      "cell_type": "markdown",
      "metadata": {
        "id": "Mi6Xm1WRz4jv"
      },
      "source": [
        "$$ \\frac{e^x}{(n+1)!}x^{(n+1)} < \\frac{3^x}{(n+1)!}x^{(n+1)} < \\epsilon$$ \n",
        "\n"
      ]
    },
    {
      "cell_type": "code",
      "metadata": {
        "id": "hRvsaSzRz2dq",
        "colab": {
          "base_uri": "https://localhost:8080/"
        },
        "outputId": "8203e9d1-fd49-4f35-ba86-ef14ed2e80d7"
      },
      "source": [
        "import math\n",
        "\n",
        "x = 10\n",
        "epsilon = 10**(-16)\n",
        "\n",
        "for k in range(1000):\n",
        "  if (  ( (3**x * x**(k+1)) / math.factorial(k+1) ) < epsilon):\n",
        "    break\n",
        "print(k)\n",
        "\n",
        "e_to_x = 0\n",
        "for i in range(k+1):\n",
        "    print(i,' ',e_to_x, ' delta ', x**i/math.factorial(i))\n",
        "    e_to_x += x**i/math.factorial(i) \n",
        "    \n",
        "print('math.exp(10) = ',math.exp(10))"
      ],
      "execution_count": 5,
      "outputs": [
        {
          "output_type": "stream",
          "text": [
            "58\n",
            "0   0  delta  1.0\n",
            "1   1.0  delta  10.0\n",
            "2   11.0  delta  50.0\n",
            "3   61.0  delta  166.66666666666666\n",
            "4   227.66666666666666  delta  416.6666666666667\n",
            "5   644.3333333333334  delta  833.3333333333334\n",
            "6   1477.6666666666667  delta  1388.888888888889\n",
            "7   2866.5555555555557  delta  1984.126984126984\n",
            "8   4850.68253968254  delta  2480.15873015873\n",
            "9   7330.84126984127  delta  2755.731922398589\n",
            "10   10086.573192239859  delta  2755.731922398589\n",
            "11   12842.305114638448  delta  2505.210838544172\n",
            "12   15347.51595318262  delta  2087.67569878681\n",
            "13   17435.191651969428  delta  1605.9043836821616\n",
            "14   19041.09603565159  delta  1147.0745597729724\n",
            "15   20188.170595424563  delta  764.7163731819817\n",
            "16   20952.886968606545  delta  477.9477332387385\n",
            "17   21430.834701845284  delta  281.14572543455205\n",
            "18   21711.980427279836  delta  156.19206968586226\n",
            "19   21868.172496965697  delta  82.2063524662433\n",
            "20   21950.37884943194  delta  41.10317623312165\n",
            "21   21991.482025665064  delta  19.572941063391262\n",
            "22   22011.054966728454  delta  8.896791392450574\n",
            "23   22019.951758120904  delta  3.868170170630684\n",
            "24   22023.819928291534  delta  1.6117375710961184\n",
            "25   22025.43166586263  delta  0.6446950284384474\n",
            "26   22026.076360891067  delta  0.24795962632247975\n",
            "27   22026.32432051739  delta  0.09183689863795547\n",
            "28   22026.416157416028  delta  0.03279889237069838\n",
            "29   22026.4489563084  delta  0.011309962886447717\n",
            "30   22026.460266271286  delta  0.003769987628815906\n",
            "31   22026.464036258916  delta  0.001216125041553518\n",
            "32   22026.465252383958  delta  0.00038003907548547436\n",
            "33   22026.465632423035  delta  0.0001151633562077195\n",
            "34   22026.46574758639  delta  3.3871575355211616e-05\n",
            "35   22026.465781457966  delta  9.677592958631891e-06\n",
            "36   22026.465791135557  delta  2.6882202662866364e-06\n",
            "37   22026.465793823776  delta  7.265460179153071e-07\n",
            "38   22026.46579455032  delta  1.9119632050402818e-07\n",
            "39   22026.465794741518  delta  4.9024697565135436e-08\n",
            "40   22026.465794790543  delta  1.2256174391283859e-08\n",
            "41   22026.4657948028  delta  2.9893108271424046e-09\n",
            "42   22026.46579480579  delta  7.11740673129144e-10\n",
            "43   22026.465794806503  delta  1.6552108677421953e-10\n",
            "44   22026.465794806667  delta  3.761842881232262e-11\n",
            "45   22026.465794806703  delta  8.359650847182803e-12\n",
            "46   22026.46579480671  delta  1.817315401561479e-12\n",
            "47   22026.46579480671  delta  3.866628513960594e-13\n",
            "48   22026.46579480671  delta  8.055476070751238e-14\n",
            "49   22026.46579480671  delta  1.643974708316579e-14\n",
            "50   22026.46579480671  delta  3.287949416633158e-15\n",
            "51   22026.46579480671  delta  6.446959640457173e-16\n",
            "52   22026.46579480671  delta  1.2397999308571487e-16\n",
            "53   22026.46579480671  delta  2.3392451525606577e-17\n",
            "54   22026.46579480671  delta  4.331935467704922e-18\n",
            "55   22026.46579480671  delta  7.876246304918039e-19\n",
            "56   22026.46579480671  delta  1.4064725544496499e-19\n",
            "57   22026.46579480671  delta  2.4674957095607893e-20\n",
            "58   22026.46579480671  delta  4.2543029475186024e-21\n",
            "math.exp(10) =  22026.465794806718\n"
          ],
          "name": "stdout"
        }
      ]
    },
    {
      "cell_type": "code",
      "metadata": {
        "id": "ZmlwI27Cz0cn",
        "colab": {
          "base_uri": "https://localhost:8080/"
        },
        "outputId": "9b1f6acc-63db-4096-81a6-cc22694fbfcd"
      },
      "source": [
        "import math\n",
        "\n",
        "x = 10\n",
        "epsilon = 10**(-4)\n",
        "delta = 1\n",
        "e_to_x = 0\n",
        "i = 0\n",
        "while  epsilon <= delta:\n",
        "  delta = x**i/math.factorial(i) \n",
        "  e_to_x += delta\n",
        "  i = i+1\n",
        "print(i-1) \n",
        "print('e_to_x = ',e_to_x)    \n",
        "print('math.exp(10) = ',math.exp(10))"
      ],
      "execution_count": 6,
      "outputs": [
        {
          "output_type": "stream",
          "text": [
            "34\n",
            "e_to_x =  22026.465781457966\n",
            "math.exp(10) =  22026.465794806718\n"
          ],
          "name": "stdout"
        }
      ]
    },
    {
      "cell_type": "markdown",
      "metadata": {
        "id": "rhEQA1k4YPUb"
      },
      "source": [
        "# 📌 $ln(x\\:+\\:1)$"
      ]
    },
    {
      "cell_type": "markdown",
      "metadata": {
        "id": "LDGHRdsBYgjO"
      },
      "source": [
        "$$ln\\left(1+x\\right)=x-\\frac{x^2}{2}+\\frac{x^3}{3}-\\cdot \\cdot \\cdot =\\sum _{k=1}^{\\infty }\\:\\left(-1\\right)^{k-1}\\cdot \\frac{x^k}{k}\\:$$"
      ]
    },
    {
      "cell_type": "code",
      "metadata": {
        "colab": {
          "base_uri": "https://localhost:8080/"
        },
        "id": "24PtUQx7YZps",
        "outputId": "17c4ec90-a905-4dca-a2ac-068e5e21d3a2"
      },
      "source": [
        "import math\n",
        "\n",
        "x = 1\n",
        "ln_x = x - x**2/2 + x**3/3 - x**4/4 + x**5/5 - x**6/6 + x**7/7 - x**8/8 + x**9/9\n",
        "print(ln_x)"
      ],
      "execution_count": 8,
      "outputs": [
        {
          "output_type": "stream",
          "text": [
            "0.7456349206349207\n"
          ],
          "name": "stdout"
        }
      ]
    },
    {
      "cell_type": "code",
      "metadata": {
        "colab": {
          "base_uri": "https://localhost:8080/"
        },
        "id": "iyr7n8Thkbt0",
        "outputId": "282c06da-4328-45c3-80f0-dd34d90760e8"
      },
      "source": [
        "print(math.log(1+1))"
      ],
      "execution_count": 10,
      "outputs": [
        {
          "output_type": "stream",
          "text": [
            "0.6931471805599453\n"
          ],
          "name": "stdout"
        }
      ]
    },
    {
      "cell_type": "code",
      "metadata": {
        "colab": {
          "base_uri": "https://localhost:8080/"
        },
        "id": "PTZiWFSAkfeJ",
        "outputId": "dd27e523-54c1-457c-d6eb-c2298af79c5b"
      },
      "source": [
        "import math\n",
        "\n",
        "x = 1\n",
        "log_x = 0\n",
        "for i in range(1, 1000):\n",
        "    log_x += (-1)**(i-1)*(x**i)/i\n",
        "print(log_x)"
      ],
      "execution_count": 11,
      "outputs": [
        {
          "output_type": "stream",
          "text": [
            "0.6936474305598223\n"
          ],
          "name": "stdout"
        }
      ]
    },
    {
      "cell_type": "markdown",
      "metadata": {
        "id": "BJMfjns_k35O"
      },
      "source": [
        "For the Taylor series for $f(x) = lg(x)$ about $c=0$ (Maclaurin) \n",
        "\n",
        "$$ E_n = \\frac{f^{(n+1)}(\\xi)}{(n+1)!}(x-c)^{(n+1)} = \\frac{ln(\\xi)}{(n+1)!}x^{(n+1)} \\le  \\frac{lg(x)}{(n+1)!}x^{(n+1)},\\text{ given that } $$\n",
        "\n",
        "\n",
        "If we want $E_n \\le \\epsilon$ then we need $n$ such that because $lg(x) \\ge ln(\\xi)$, for  $c=0 \\le \\xi \\le x$ \n",
        "\n",
        "\n",
        "$$ \\frac{lg(x)}{(n+1)!}x^{(n+1)} < \\epsilon$$ \n",
        "\n",
        "because $lg(x) \\ge ln(\\xi)$, for  $0 \\le \\xi \\le x$.\n"
      ]
    },
    {
      "cell_type": "code",
      "metadata": {
        "colab": {
          "base_uri": "https://localhost:8080/"
        },
        "id": "pS34pgddlC3D",
        "outputId": "f722ed71-738a-4dae-de9b-42a7fb7b65b5"
      },
      "source": [
        "import math\n",
        "\n",
        "x = 1\n",
        "epsilon = 10**(-2)\n",
        "\n",
        "for k in range(1, 1000+1):\n",
        "  delta = (-1)**(k-1)*(x**k)/k\n",
        "  if (abs(delta) < epsilon):\n",
        "    break\n",
        "print(k)\n",
        "\n",
        "log_x = 0\n",
        "for i in range(1, k+1):\n",
        "    delta = (-1)**(i-1)*(x**i)/i\n",
        "    print(i,' ',log_x, ' delta ', delta)\n",
        "    log_x += delta \n",
        "\n",
        "print(log_x) \n",
        "print('math.log(1+1) = ',math.log(1+1))"
      ],
      "execution_count": 15,
      "outputs": [
        {
          "output_type": "stream",
          "text": [
            "101\n",
            "1   0  delta  1.0\n",
            "2   1.0  delta  -0.5\n",
            "3   0.5  delta  0.3333333333333333\n",
            "4   0.8333333333333333  delta  -0.25\n",
            "5   0.5833333333333333  delta  0.2\n",
            "6   0.7833333333333332  delta  -0.16666666666666666\n",
            "7   0.6166666666666666  delta  0.14285714285714285\n",
            "8   0.7595238095238095  delta  -0.125\n",
            "9   0.6345238095238095  delta  0.1111111111111111\n",
            "10   0.7456349206349207  delta  -0.1\n",
            "11   0.6456349206349207  delta  0.09090909090909091\n",
            "12   0.7365440115440116  delta  -0.08333333333333333\n",
            "13   0.6532106782106782  delta  0.07692307692307693\n",
            "14   0.7301337551337552  delta  -0.07142857142857142\n",
            "15   0.6587051837051838  delta  0.06666666666666667\n",
            "16   0.7253718503718505  delta  -0.0625\n",
            "17   0.6628718503718505  delta  0.058823529411764705\n",
            "18   0.7216953797836152  delta  -0.05555555555555555\n",
            "19   0.6661398242280596  delta  0.05263157894736842\n",
            "20   0.718771403175428  delta  -0.05\n",
            "21   0.6687714031754279  delta  0.047619047619047616\n",
            "22   0.7163904507944756  delta  -0.045454545454545456\n",
            "23   0.6709359053399302  delta  0.043478260869565216\n",
            "24   0.7144141662094954  delta  -0.041666666666666664\n",
            "25   0.6727474995428288  delta  0.04\n",
            "26   0.7127474995428288  delta  -0.038461538461538464\n",
            "27   0.6742859610812904  delta  0.037037037037037035\n",
            "28   0.7113229981183273  delta  -0.03571428571428571\n",
            "29   0.6756087124040416  delta  0.034482758620689655\n",
            "30   0.7100914710247312  delta  -0.03333333333333333\n",
            "31   0.6767581376913979  delta  0.03225806451612903\n",
            "32   0.7090162022075269  delta  -0.03125\n",
            "33   0.6777662022075269  delta  0.030303030303030304\n",
            "34   0.7080692325105572  delta  -0.029411764705882353\n",
            "35   0.6786574678046748  delta  0.02857142857142857\n",
            "36   0.7072288963761034  delta  -0.027777777777777776\n",
            "37   0.6794511185983256  delta  0.02702702702702703\n",
            "38   0.7064781456253526  delta  -0.02631578947368421\n",
            "39   0.6801623561516684  delta  0.02564102564102564\n",
            "40   0.7058033817926941  delta  -0.025\n",
            "41   0.6808033817926941  delta  0.024390243902439025\n",
            "42   0.7051936256951331  delta  -0.023809523809523808\n",
            "43   0.6813841018856093  delta  0.023255813953488372\n",
            "44   0.7046399158390977  delta  -0.022727272727272728\n",
            "45   0.681912643111825  delta  0.022222222222222223\n",
            "46   0.7041348653340472  delta  -0.021739130434782608\n",
            "47   0.6823957348992646  delta  0.02127659574468085\n",
            "48   0.7036723306439455  delta  -0.020833333333333332\n",
            "49   0.6828389973106122  delta  0.02040816326530612\n",
            "50   0.7032471605759183  delta  -0.02\n",
            "51   0.6832471605759183  delta  0.0196078431372549\n",
            "52   0.7028550037131732  delta  -0.019230769230769232\n",
            "53   0.683624234482404  delta  0.018867924528301886\n",
            "54   0.7024921590107058  delta  -0.018518518518518517\n",
            "55   0.6839736404921873  delta  0.01818181818181818\n",
            "56   0.7021554586740055  delta  -0.017857142857142856\n",
            "57   0.6842983158168626  delta  0.017543859649122806\n",
            "58   0.7018421754659854  delta  -0.017241379310344827\n",
            "59   0.6846007961556405  delta  0.01694915254237288\n",
            "60   0.7015499486980133  delta  -0.016666666666666666\n",
            "61   0.6848832820313466  delta  0.01639344262295082\n",
            "62   0.7012767246542975  delta  -0.016129032258064516\n",
            "63   0.685147692396233  delta  0.015873015873015872\n",
            "64   0.7010207082692488  delta  -0.015625\n",
            "65   0.6853957082692488  delta  0.015384615384615385\n",
            "66   0.7007803236538641  delta  -0.015151515151515152\n",
            "67   0.685628808502349  delta  0.014925373134328358\n",
            "68   0.7005541816366774  delta  -0.014705882352941176\n",
            "69   0.6858482992837363  delta  0.014492753623188406\n",
            "70   0.7003410529069246  delta  -0.014285714285714285\n",
            "71   0.6860553386212104  delta  0.014084507042253521\n",
            "72   0.7001398456634639  delta  -0.013888888888888888\n",
            "73   0.686250956774575  delta  0.0136986301369863\n",
            "74   0.6999495869115613  delta  -0.013513513513513514\n",
            "75   0.6864360733980478  delta  0.013333333333333334\n",
            "76   0.6997694067313811  delta  -0.013157894736842105\n",
            "77   0.686611511994539  delta  0.012987012987012988\n",
            "78   0.699598524981552  delta  -0.01282051282051282\n",
            "79   0.6867780121610392  delta  0.012658227848101266\n",
            "80   0.6994362400091404  delta  -0.0125\n",
            "81   0.6869362400091404  delta  0.012345679012345678\n",
            "82   0.6992819190214861  delta  -0.012195121951219513\n",
            "83   0.6870867970702665  delta  0.012048192771084338\n",
            "84   0.6991349898413509  delta  -0.011904761904761904\n",
            "85   0.687230227936589  delta  0.011764705882352941\n",
            "86   0.698994933818942  delta  -0.011627906976744186\n",
            "87   0.6873670268421977  delta  0.011494252873563218\n",
            "88   0.698861279715761  delta  -0.011363636363636364\n",
            "89   0.6874976433521246  delta  0.011235955056179775\n",
            "90   0.6987335984083044  delta  -0.011111111111111112\n",
            "91   0.6876224872971933  delta  0.01098901098901099\n",
            "92   0.6986114982862043  delta  -0.010869565217391304\n",
            "93   0.6877419330688129  delta  0.010752688172043012\n",
            "94   0.6984946212408559  delta  -0.010638297872340425\n",
            "95   0.6878563233685155  delta  0.010526315789473684\n",
            "96   0.6983826391579893  delta  -0.010416666666666666\n",
            "97   0.6879659724913226  delta  0.010309278350515464\n",
            "98   0.6982752508418381  delta  -0.01020408163265306\n",
            "99   0.688071169209185  delta  0.010101010101010102\n",
            "100   0.698172179310195  delta  -0.01\n",
            "101   0.688172179310195  delta  0.009900990099009901\n",
            "0.6980731694092049\n",
            "math.log(1+1) =  0.6931471805599453\n"
          ],
          "name": "stdout"
        }
      ]
    },
    {
      "cell_type": "code",
      "metadata": {
        "colab": {
          "base_uri": "https://localhost:8080/"
        },
        "id": "xJUNrISolnwt",
        "outputId": "f1e68cee-650f-4b10-a3f6-87ccd9e00679"
      },
      "source": [
        "import math\n",
        "\n",
        "x = 1\n",
        "epsilon = 10**(-2)\n",
        "delta = 1\n",
        "log_x = 0\n",
        "i = 1\n",
        "while epsilon <= abs(delta):\n",
        "  delta = (-1)**(i-1)*((x**i)/i)\n",
        "  log_x += delta\n",
        "  i = i+1\n",
        "\n",
        "print(i-1) \n",
        "print('log_x = ',log_x)    \n",
        "print('math.log(1+1) = ',math.log(1+1))"
      ],
      "execution_count": 28,
      "outputs": [
        {
          "output_type": "stream",
          "text": [
            "101\n",
            "log_x =  0.6980731694092049\n",
            "math.log(1+1) =  0.6931471805599453\n"
          ],
          "name": "stdout"
        }
      ]
    },
    {
      "cell_type": "markdown",
      "metadata": {
        "id": "SAIcfkixmhbe"
      },
      "source": [
        "# 📌 $sin(x)$"
      ]
    },
    {
      "cell_type": "code",
      "metadata": {
        "colab": {
          "base_uri": "https://localhost:8080/"
        },
        "id": "7Kf_nNTKmokx",
        "outputId": "5c4d8dbf-77be-4f32-b72f-0a80718d9f3a"
      },
      "source": [
        "x = 2\n",
        "sin_x = x - x**3/math.factorial(3) + x**5/math.factorial(5) - x**7/math.factorial(7) + x**9/math.factorial(9) - x**11/math.factorial(11)\n",
        "print(sin_x)"
      ],
      "execution_count": 29,
      "outputs": [
        {
          "output_type": "stream",
          "text": [
            "0.9092961359628027\n"
          ],
          "name": "stdout"
        }
      ]
    },
    {
      "cell_type": "code",
      "metadata": {
        "colab": {
          "base_uri": "https://localhost:8080/"
        },
        "id": "K23wX0tamqiz",
        "outputId": "97a31193-9ed7-4c21-e644-c557105f590d"
      },
      "source": [
        "print(math.sin(2))"
      ],
      "execution_count": 30,
      "outputs": [
        {
          "output_type": "stream",
          "text": [
            "0.9092974268256817\n"
          ],
          "name": "stdout"
        }
      ]
    },
    {
      "cell_type": "code",
      "metadata": {
        "colab": {
          "base_uri": "https://localhost:8080/"
        },
        "id": "1wmxmUcBmr0u",
        "outputId": "0b762bc6-9ee9-4dab-ee36-b23e70606206"
      },
      "source": [
        "x = 2\n",
        "sin_x = 0\n",
        "for i in range(10):\n",
        "    sin_x += ((-1)**i) *(x**(2*i+1)/math.factorial(2*i+1))\n",
        "print(sin_x)"
      ],
      "execution_count": 31,
      "outputs": [
        {
          "output_type": "stream",
          "text": [
            "0.909297426825641\n"
          ],
          "name": "stdout"
        }
      ]
    },
    {
      "cell_type": "markdown",
      "metadata": {
        "id": "LcVAXYr4myqe"
      },
      "source": [
        "For the Taylor series for $f(x) = sin(x)$\n",
        "\n",
        "$$ E_n\\:=\\:\\frac{f^{\\left(n+1\\right)}\\left(\\xi \\right)}{\\left(n+1\\right)!}\\left(x-c\\right)^{\\left(n+1\\right)}\\:=\\:\\frac{sin\\left(\\xi \\:\\right)}{\\left(n+1\\right)!}x^{\\left(n+1\\right)}\\:\\le \\:\\:\\frac{sin\\left(x\\right)}{\\left(n+1\\right)!}x^{\\left(n+1\\right)},\\text{ given that } $$\n",
        "\n",
        "\n",
        "If we want $E_n \\le \\epsilon$ then we need $n$ such that because $e^x \\ge e^\\xi$, for  $c=0 \\le \\xi \\le x$ \n",
        "\n",
        "\n",
        "$$ \\frac{sin(x)}{(n+1)!}x^{(n+1)} < \\epsilon$$ \n",
        "\n",
        "because $e^x \\ge e^\\xi$, for  $0 \\le \\xi \\le x$.\n"
      ]
    },
    {
      "cell_type": "code",
      "metadata": {
        "colab": {
          "base_uri": "https://localhost:8080/"
        },
        "id": "yuxNEaKsm1Ev",
        "outputId": "90721839-dcf9-499b-9165-4f579f46ea55"
      },
      "source": [
        "x = 2\n",
        "epsilon = 10**(-4)\n",
        "\n",
        "for k in range(1000):\n",
        "  if (  abs( (math.sin(x) * x**(k+1)) / math.factorial(k+1) ) < epsilon):\n",
        "    break\n",
        "print(k)\n",
        "\n",
        "sin_x = 0\n",
        "for i in range(k):\n",
        "    print(i, ' ', sin_x, ' delta ', ((-1)**i) *(x**(2*i+1)/math.factorial(2*i+1)))\n",
        "    sin_x += ((-1)**i) *(x**(2*i+1)/math.factorial(2*i+1))\n",
        "    \n",
        "print('math.sin(2) = ', math.sin(2))"
      ],
      "execution_count": 32,
      "outputs": [
        {
          "output_type": "stream",
          "text": [
            "10\n",
            "0   0  delta  2.0\n",
            "1   2.0  delta  -1.3333333333333333\n",
            "2   0.6666666666666667  delta  0.26666666666666666\n",
            "3   0.9333333333333333  delta  -0.025396825396825397\n",
            "4   0.9079365079365079  delta  0.0014109347442680777\n",
            "5   0.909347442680776  delta  -5.130671797338464e-05\n",
            "6   0.9092961359628027  delta  1.3155568711124266e-06\n",
            "7   0.9092974515196738  delta  -2.5058226116427174e-08\n",
            "8   0.9092974264614476  delta  3.685033252415761e-10\n",
            "9   0.909297426829951  delta  -4.3099804121821765e-12\n",
            "math.sin(2) =  0.9092974268256817\n"
          ],
          "name": "stdout"
        }
      ]
    },
    {
      "cell_type": "code",
      "metadata": {
        "colab": {
          "base_uri": "https://localhost:8080/"
        },
        "id": "vSMOSwtrm8TJ",
        "outputId": "b9a78e61-fdd0-46d5-ec8e-64f1e0b6fab7"
      },
      "source": [
        "x = 2\n",
        "epsilon = 10**(-4)\n",
        "delta = 1\n",
        "sin_x = 0\n",
        "i = 0\n",
        "while  epsilon <= abs(delta):\n",
        "  delta = ((-1)**i) *(x**(2*i+1)/math.factorial(2*i+1))\n",
        "  sin_x += delta\n",
        "  i = i+1\n",
        "\n",
        "print(\"Iteraciones: \", i-1) \n",
        "print('sin_x = ', sin_x)    \n",
        "print('math.sin(2) = ',math.sin(2))"
      ],
      "execution_count": 34,
      "outputs": [
        {
          "output_type": "stream",
          "text": [
            "Iteraciones:  5\n",
            "sin_x =  0.9092961359628027\n",
            "math.sin(2) =  0.9092974268256817\n"
          ],
          "name": "stdout"
        }
      ]
    }
  ]
}