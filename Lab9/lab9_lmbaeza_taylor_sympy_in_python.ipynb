{
  "nbformat": 4,
  "nbformat_minor": 0,
  "metadata": {
    "colab": {
      "name": "lab9_lmbaeza_taylor_sympy_in_python.ipynb",
      "provenance": [],
      "collapsed_sections": []
    },
    "kernelspec": {
      "name": "python3",
      "display_name": "Python 3"
    }
  },
  "cells": [
    {
      "cell_type": "markdown",
      "metadata": {
        "id": "goNSBrFnGb9Q"
      },
      "source": [
        "# Taylor Sympy in Python"
      ]
    },
    {
      "cell_type": "markdown",
      "metadata": {
        "id": "iOJY_QbdGRix"
      },
      "source": [
        "# LAB 9 TaylorSymPy.ipynb \n",
        "\n",
        "**Universidad Nacional de Colombia - Sede Bogotá**\n",
        "\n",
        "**Metodos Numericos**\n",
        "\n",
        "**Docente:** _German Hernandez_\n",
        "\n",
        "**Estudiante:**\n",
        "  * Luis Miguel Báez Aponte - lmbaeza@unal.edu.co"
      ]
    },
    {
      "cell_type": "markdown",
      "metadata": {
        "id": "I5Abtc6YGpXl"
      },
      "source": [
        "$$sin\\:x\\:=\\:x-\\frac{x^3}{3!}+\\frac{x^5}{5!}-\\cdot +\\cdot \\cdot =\\sum _{n=0}^{\\infty }\\left(-1\\right)^n\\cdot \\frac{x^{2\\cdot n+1}}{\\left(2\\cdot n+1\\right)!}$$"
      ]
    },
    {
      "cell_type": "code",
      "metadata": {
        "id": "vLwDl129-jhR",
        "colab": {
          "base_uri": "https://localhost:8080/"
        },
        "outputId": "0d479b85-ada1-4143-cd63-a476f4879db4"
      },
      "source": [
        "import math\n",
        "\n",
        "x = 2\n",
        "sin_x = x - x**3/math.factorial(3) + x**5/math.factorial(5) - x**7/math.factorial(7) + x**9/math.factorial(9) - x**11/math.factorial(11)\n",
        "print(sin_x)"
      ],
      "execution_count": 1,
      "outputs": [
        {
          "output_type": "stream",
          "text": [
            "0.9092961359628027\n"
          ],
          "name": "stdout"
        }
      ]
    },
    {
      "cell_type": "code",
      "metadata": {
        "id": "32L27d0r_EwV",
        "colab": {
          "base_uri": "https://localhost:8080/"
        },
        "outputId": "f518516e-6ee7-446d-b371-37375d4cfa7b"
      },
      "source": [
        "print(math.sin(2))"
      ],
      "execution_count": 2,
      "outputs": [
        {
          "output_type": "stream",
          "text": [
            "0.9092974268256817\n"
          ],
          "name": "stdout"
        }
      ]
    },
    {
      "cell_type": "code",
      "metadata": {
        "id": "xTjBEI-s_KO8",
        "colab": {
          "base_uri": "https://localhost:8080/"
        },
        "outputId": "79d71413-60cc-4358-f384-75eb9c34e4a8"
      },
      "source": [
        "import math\n",
        "\n",
        "x = 2\n",
        "sin_x = 0\n",
        "for i in range(10):\n",
        "    sin_x += ((-1)**i) *(x**(2*i+1)/math.factorial(2*i+1))\n",
        "print(sin_x)"
      ],
      "execution_count": 3,
      "outputs": [
        {
          "output_type": "stream",
          "text": [
            "0.909297426825641\n"
          ],
          "name": "stdout"
        }
      ]
    },
    {
      "cell_type": "markdown",
      "metadata": {
        "id": "CeFgUwtNfwKO"
      },
      "source": [
        "For the Taylor series for $f(x) = sin(x)$\n",
        "\n",
        "$$ E_n\\:=\\:\\frac{f^{\\left(n+1\\right)}\\left(\\xi \\right)}{\\left(n+1\\right)!}\\left(x-c\\right)^{\\left(n+1\\right)}\\:=\\:\\frac{sin\\left(\\xi \\:\\right)}{\\left(n+1\\right)!}x^{\\left(n+1\\right)}\\:\\le \\:\\:\\frac{sin\\left(x\\right)}{\\left(n+1\\right)!}x^{\\left(n+1\\right)},\\text{ given that } $$\n",
        "\n",
        "\n",
        "If we want $E_n \\le \\epsilon$ then we need $n$ such that because $e^x \\ge e^\\xi$, for  $c=0 \\le \\xi \\le x$ \n",
        "\n",
        "\n",
        "$$ \\frac{sin(x)}{(n+1)!}x^{(n+1)} < \\epsilon$$ \n",
        "\n",
        "because $e^x \\ge e^\\xi$, for  $0 \\le \\xi \\le x$.\n"
      ]
    },
    {
      "cell_type": "code",
      "metadata": {
        "id": "ZIEObg2JbjfY",
        "colab": {
          "base_uri": "https://localhost:8080/"
        },
        "outputId": "58f71105-fa14-4ca2-8c3d-1962e4db0908"
      },
      "source": [
        "import math\n",
        "\n",
        "x = 10\n",
        "epsilon = 10**(-4)\n",
        "\n",
        "for k in range(1000):\n",
        "  if (  abs( (math.sin(x) * x**(k+1)) / math.factorial(k+1) ) < epsilon):\n",
        "    break\n",
        "print(k)\n",
        "\n",
        "sin_x = 0\n",
        "for i in range(k):\n",
        "    print(i, ' ', sin_x, ' delta ', ((-1)**i) *(x**(2*i+1)/math.factorial(2*i+1)))\n",
        "    sin_x += ((-1)**i) *(x**(2*i+1)/math.factorial(2*i+1))\n",
        "    \n",
        "print('math.sin(10) = ', math.sin(10))"
      ],
      "execution_count": 4,
      "outputs": [
        {
          "output_type": "stream",
          "text": [
            "32\n",
            "0   0  delta  10.0\n",
            "1   10.0  delta  -166.66666666666666\n",
            "2   -156.66666666666666  delta  833.3333333333334\n",
            "3   676.6666666666667  delta  -1984.126984126984\n",
            "4   -1307.4603174603174  delta  2755.731922398589\n",
            "5   1448.2716049382718  delta  -2505.210838544172\n",
            "6   -1056.9392336059002  delta  1605.9043836821616\n",
            "7   548.9651500762614  delta  -764.7163731819817\n",
            "8   -215.75122310572033  delta  281.14572543455205\n",
            "9   65.39450232883172  delta  -82.2063524662433\n",
            "10   -16.811850137411582  delta  19.572941063391262\n",
            "11   2.76109092597968  delta  -3.868170170630684\n",
            "12   -1.107079244651004  delta  0.6446950284384474\n",
            "13   -0.46238421621255665  delta  -0.09183689863795547\n",
            "14   -0.5542211148505121  delta  0.011309962886447717\n",
            "15   -0.5429111519640644  delta  -0.001216125041553518\n",
            "16   -0.5441272770056179  delta  0.0001151633562077195\n",
            "17   -0.5440121136494102  delta  -9.677592958631891e-06\n",
            "18   -0.5440217912423688  delta  7.265460179153071e-07\n",
            "19   -0.5440210646963509  delta  -4.9024697565135436e-08\n",
            "20   -0.5440211137210484  delta  2.9893108271424046e-09\n",
            "21   -0.5440211107317376  delta  -1.6552108677421953e-10\n",
            "22   -0.5440211108972587  delta  8.359650847182803e-12\n",
            "23   -0.544021110888899  delta  -3.866628513960594e-13\n",
            "24   -0.5440211108892857  delta  1.643974708316579e-14\n",
            "25   -0.5440211108892693  delta  -6.446959640457173e-16\n",
            "26   -0.54402111088927  delta  2.3392451525606577e-17\n",
            "27   -0.54402111088927  delta  -7.876246304918039e-19\n",
            "28   -0.54402111088927  delta  2.4674957095607893e-20\n",
            "29   -0.54402111088927  delta  -7.210682961895936e-22\n",
            "30   -0.54402111088927  delta  1.9701319568021682e-23\n",
            "31   -0.54402111088927  delta  -5.043860616493006e-25\n",
            "math.sin(10) =  -0.5440211108893698\n"
          ],
          "name": "stdout"
        }
      ]
    },
    {
      "cell_type": "markdown",
      "metadata": {
        "id": "Mi6Xm1WRz4jv"
      },
      "source": [
        "$$ \\frac{sin(x)}{(n+1)!}x^{(n+1)} < \\frac{1.5}{(n+1)!}x^{(n+1)} < \\epsilon$$ \n",
        "\n"
      ]
    },
    {
      "cell_type": "code",
      "metadata": {
        "id": "hRvsaSzRz2dq",
        "colab": {
          "base_uri": "https://localhost:8080/"
        },
        "outputId": "9443664c-96b6-408c-bec2-b78039107b38"
      },
      "source": [
        "import math\n",
        "\n",
        "x = 10\n",
        "epsilon = 10**(-4)\n",
        "\n",
        "for k in range(1000):\n",
        "  if (  ( (1.5* x**(k+1)) / math.factorial(k+1) ) < epsilon):\n",
        "    break\n",
        "print(k)\n",
        "\n",
        "sin_x = 0\n",
        "for i in range(k+1):\n",
        "    print(i,' ',sin_x, ' delta ', ((-1)**i) *(x**(2*i+1)/math.factorial(2*i+1)))\n",
        "    sin_x += ((-1)**i) *(x**(2*i+1)/math.factorial(2*i+1))\n",
        "    \n",
        "print('math.sin(10) = ',math.sin(10))"
      ],
      "execution_count": 8,
      "outputs": [
        {
          "output_type": "stream",
          "text": [
            "33\n",
            "0   0  delta  10.0\n",
            "1   10.0  delta  -166.66666666666666\n",
            "2   -156.66666666666666  delta  833.3333333333334\n",
            "3   676.6666666666667  delta  -1984.126984126984\n",
            "4   -1307.4603174603174  delta  2755.731922398589\n",
            "5   1448.2716049382718  delta  -2505.210838544172\n",
            "6   -1056.9392336059002  delta  1605.9043836821616\n",
            "7   548.9651500762614  delta  -764.7163731819817\n",
            "8   -215.75122310572033  delta  281.14572543455205\n",
            "9   65.39450232883172  delta  -82.2063524662433\n",
            "10   -16.811850137411582  delta  19.572941063391262\n",
            "11   2.76109092597968  delta  -3.868170170630684\n",
            "12   -1.107079244651004  delta  0.6446950284384474\n",
            "13   -0.46238421621255665  delta  -0.09183689863795547\n",
            "14   -0.5542211148505121  delta  0.011309962886447717\n",
            "15   -0.5429111519640644  delta  -0.001216125041553518\n",
            "16   -0.5441272770056179  delta  0.0001151633562077195\n",
            "17   -0.5440121136494102  delta  -9.677592958631891e-06\n",
            "18   -0.5440217912423688  delta  7.265460179153071e-07\n",
            "19   -0.5440210646963509  delta  -4.9024697565135436e-08\n",
            "20   -0.5440211137210484  delta  2.9893108271424046e-09\n",
            "21   -0.5440211107317376  delta  -1.6552108677421953e-10\n",
            "22   -0.5440211108972587  delta  8.359650847182803e-12\n",
            "23   -0.544021110888899  delta  -3.866628513960594e-13\n",
            "24   -0.5440211108892857  delta  1.643974708316579e-14\n",
            "25   -0.5440211108892693  delta  -6.446959640457173e-16\n",
            "26   -0.54402111088927  delta  2.3392451525606577e-17\n",
            "27   -0.54402111088927  delta  -7.876246304918039e-19\n",
            "28   -0.54402111088927  delta  2.4674957095607893e-20\n",
            "29   -0.54402111088927  delta  -7.210682961895936e-22\n",
            "30   -0.54402111088927  delta  1.9701319568021682e-23\n",
            "31   -0.54402111088927  delta  -5.043860616493006e-25\n",
            "32   -0.54402111088927  delta  1.2124664943492804e-26\n",
            "33   -0.54402111088927  delta  -2.74189618803546e-28\n",
            "math.sin(10) =  -0.5440211108893698\n"
          ],
          "name": "stdout"
        }
      ]
    },
    {
      "cell_type": "code",
      "metadata": {
        "id": "ZmlwI27Cz0cn",
        "colab": {
          "base_uri": "https://localhost:8080/"
        },
        "outputId": "fcfcc84b-e802-4870-e99d-6864b9526605"
      },
      "source": [
        "import math\n",
        "\n",
        "x = 10\n",
        "epsilon = 10**(-4)\n",
        "delta = 1\n",
        "sin_x = 0\n",
        "i = 0\n",
        "while  epsilon <= abs(delta):\n",
        "  delta = ((-1)**i) *(x**(2*i+1)/math.factorial(2*i+1))\n",
        "  sin_x += delta\n",
        "  i = i+1\n",
        "\n",
        "print(\"Iteraciones: \", i-1) \n",
        "print('sin_x = ', sin_x)    \n",
        "print('math.sin(10) = ',math.sin(10))"
      ],
      "execution_count": 7,
      "outputs": [
        {
          "output_type": "stream",
          "text": [
            "Iteraciones:  17\n",
            "sin_x =  -0.5440217912423688\n",
            "math.sin(10) =  -0.5440211108893698\n"
          ],
          "name": "stdout"
        }
      ]
    }
  ]
}