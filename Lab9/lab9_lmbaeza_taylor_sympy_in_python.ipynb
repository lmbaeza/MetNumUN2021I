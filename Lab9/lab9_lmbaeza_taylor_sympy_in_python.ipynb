{
  "nbformat": 4,
  "nbformat_minor": 0,
  "metadata": {
    "colab": {
      "name": "lab9_lmbaeza_taylor_sympy_in_python.ipynb",
      "provenance": [],
      "collapsed_sections": []
    },
    "kernelspec": {
      "name": "python3",
      "display_name": "Python 3"
    }
  },
  "cells": [
    {
      "cell_type": "markdown",
      "metadata": {
        "id": "goNSBrFnGb9Q"
      },
      "source": [
        "# Taylor Sympy in Python"
      ]
    },
    {
      "cell_type": "markdown",
      "metadata": {
        "id": "iOJY_QbdGRix"
      },
      "source": [
        "# LAB 9 TaylorSymPy.ipynb \n",
        "\n",
        "**Universidad Nacional de Colombia - Sede Bogotá**\n",
        "\n",
        "**Metodos Numericos**\n",
        "\n",
        "**Docente:** _German Hernandez_\n",
        "\n",
        "**Estudiante:**\n",
        "  * Luis Miguel Báez Aponte - lmbaeza@unal.edu.co"
      ]
    },
    {
      "cell_type": "code",
      "metadata": {
        "id": "0Dc0R0o0-1vk"
      },
      "source": [
        "# Importar Librerias\n",
        "import math"
      ],
      "execution_count": 1,
      "outputs": []
    },
    {
      "cell_type": "markdown",
      "metadata": {
        "id": "nwjoJzXT-iN_"
      },
      "source": [
        "# 📌 $sin(\\:x\\:)$"
      ]
    },
    {
      "cell_type": "markdown",
      "metadata": {
        "id": "I5Abtc6YGpXl"
      },
      "source": [
        "$$sin\\:x\\:=\\:x-\\frac{x^3}{3!}+\\frac{x^5}{5!}-\\cdot +\\cdot \\cdot =\\sum _{n=0}^{\\infty }\\left(-1\\right)^n\\cdot \\frac{x^{2\\cdot n+1}}{\\left(2\\cdot n+1\\right)!}$$"
      ]
    },
    {
      "cell_type": "code",
      "metadata": {
        "id": "vLwDl129-jhR",
        "colab": {
          "base_uri": "https://localhost:8080/"
        },
        "outputId": "955f2d8c-7d80-4282-af1d-8132e85e74a5"
      },
      "source": [
        "x = 2\n",
        "sin_x = x - x**3/math.factorial(3) + x**5/math.factorial(5) - x**7/math.factorial(7) + x**9/math.factorial(9) - x**11/math.factorial(11)\n",
        "print(sin_x)"
      ],
      "execution_count": 2,
      "outputs": [
        {
          "output_type": "stream",
          "text": [
            "0.9092961359628027\n"
          ],
          "name": "stdout"
        }
      ]
    },
    {
      "cell_type": "code",
      "metadata": {
        "id": "32L27d0r_EwV",
        "colab": {
          "base_uri": "https://localhost:8080/"
        },
        "outputId": "70b2158a-8648-4c23-b80e-9f4b15ce1d4c"
      },
      "source": [
        "print(math.sin(2))"
      ],
      "execution_count": 3,
      "outputs": [
        {
          "output_type": "stream",
          "text": [
            "0.9092974268256817\n"
          ],
          "name": "stdout"
        }
      ]
    },
    {
      "cell_type": "code",
      "metadata": {
        "id": "xTjBEI-s_KO8",
        "colab": {
          "base_uri": "https://localhost:8080/"
        },
        "outputId": "1cbfaa2e-b50c-4b38-a38e-a90025f618c4"
      },
      "source": [
        "x = 2\n",
        "sin_x = 0\n",
        "for i in range(10):\n",
        "    sin_x += ((-1)**i) *(x**(2*i+1)/math.factorial(2*i+1))\n",
        "print(sin_x)"
      ],
      "execution_count": 4,
      "outputs": [
        {
          "output_type": "stream",
          "text": [
            "0.909297426825641\n"
          ],
          "name": "stdout"
        }
      ]
    },
    {
      "cell_type": "markdown",
      "metadata": {
        "id": "CeFgUwtNfwKO"
      },
      "source": [
        "For the Taylor series for $f(x) = sin(x)$\n",
        "\n",
        "$$ E_n\\:=\\:\\frac{f^{\\left(n+1\\right)}\\left(\\xi \\right)}{\\left(n+1\\right)!}\\left(x-c\\right)^{\\left(n+1\\right)}\\:=\\:\\frac{sin\\left(\\xi \\:\\right)}{\\left(n+1\\right)!}x^{\\left(n+1\\right)}\\:\\le \\:\\:\\frac{sin\\left(x\\right)}{\\left(n+1\\right)!}x^{\\left(n+1\\right)},\\text{ given that } $$\n",
        "\n",
        "\n",
        "If we want $E_n \\le \\epsilon$ then we need $n$ such that because $e^x \\ge e^\\xi$, for  $c=0 \\le \\xi \\le x$ \n",
        "\n",
        "\n",
        "$$ \\frac{sin(x)}{(n+1)!}x^{(n+1)} < \\epsilon$$ \n",
        "\n",
        "because $e^x \\ge e^\\xi$, for  $0 \\le \\xi \\le x$.\n"
      ]
    },
    {
      "cell_type": "code",
      "metadata": {
        "id": "ZIEObg2JbjfY",
        "colab": {
          "base_uri": "https://localhost:8080/"
        },
        "outputId": "24e5e953-51ef-4a84-fda7-b54df3f569f1"
      },
      "source": [
        "x = 10\n",
        "epsilon = 10**(-4)\n",
        "\n",
        "for k in range(1000):\n",
        "  if (  abs( (math.sin(x) * x**(k+1)) / math.factorial(k+1) ) < epsilon):\n",
        "    break\n",
        "print(k)\n",
        "\n",
        "sin_x = 0\n",
        "for i in range(k):\n",
        "    print(i, ' ', sin_x, ' delta ', ((-1)**i) *(x**(2*i+1)/math.factorial(2*i+1)))\n",
        "    sin_x += ((-1)**i) *(x**(2*i+1)/math.factorial(2*i+1))\n",
        "    \n",
        "print('math.sin(10) = ', math.sin(10))"
      ],
      "execution_count": 5,
      "outputs": [
        {
          "output_type": "stream",
          "text": [
            "32\n",
            "0   0  delta  10.0\n",
            "1   10.0  delta  -166.66666666666666\n",
            "2   -156.66666666666666  delta  833.3333333333334\n",
            "3   676.6666666666667  delta  -1984.126984126984\n",
            "4   -1307.4603174603174  delta  2755.731922398589\n",
            "5   1448.2716049382718  delta  -2505.210838544172\n",
            "6   -1056.9392336059002  delta  1605.9043836821616\n",
            "7   548.9651500762614  delta  -764.7163731819817\n",
            "8   -215.75122310572033  delta  281.14572543455205\n",
            "9   65.39450232883172  delta  -82.2063524662433\n",
            "10   -16.811850137411582  delta  19.572941063391262\n",
            "11   2.76109092597968  delta  -3.868170170630684\n",
            "12   -1.107079244651004  delta  0.6446950284384474\n",
            "13   -0.46238421621255665  delta  -0.09183689863795547\n",
            "14   -0.5542211148505121  delta  0.011309962886447717\n",
            "15   -0.5429111519640644  delta  -0.001216125041553518\n",
            "16   -0.5441272770056179  delta  0.0001151633562077195\n",
            "17   -0.5440121136494102  delta  -9.677592958631891e-06\n",
            "18   -0.5440217912423688  delta  7.265460179153071e-07\n",
            "19   -0.5440210646963509  delta  -4.9024697565135436e-08\n",
            "20   -0.5440211137210484  delta  2.9893108271424046e-09\n",
            "21   -0.5440211107317376  delta  -1.6552108677421953e-10\n",
            "22   -0.5440211108972587  delta  8.359650847182803e-12\n",
            "23   -0.544021110888899  delta  -3.866628513960594e-13\n",
            "24   -0.5440211108892857  delta  1.643974708316579e-14\n",
            "25   -0.5440211108892693  delta  -6.446959640457173e-16\n",
            "26   -0.54402111088927  delta  2.3392451525606577e-17\n",
            "27   -0.54402111088927  delta  -7.876246304918039e-19\n",
            "28   -0.54402111088927  delta  2.4674957095607893e-20\n",
            "29   -0.54402111088927  delta  -7.210682961895936e-22\n",
            "30   -0.54402111088927  delta  1.9701319568021682e-23\n",
            "31   -0.54402111088927  delta  -5.043860616493006e-25\n",
            "math.sin(10) =  -0.5440211108893698\n"
          ],
          "name": "stdout"
        }
      ]
    },
    {
      "cell_type": "markdown",
      "metadata": {
        "id": "Mi6Xm1WRz4jv"
      },
      "source": [
        "$$ \\frac{sin(x)}{(n+1)!}x^{(n+1)} < \\frac{1.5}{(n+1)!}x^{(n+1)} < \\epsilon$$ \n",
        "\n"
      ]
    },
    {
      "cell_type": "code",
      "metadata": {
        "id": "hRvsaSzRz2dq",
        "colab": {
          "base_uri": "https://localhost:8080/"
        },
        "outputId": "409f120f-7334-403d-85ad-bd7ea61a3e35"
      },
      "source": [
        "x = 10\n",
        "epsilon = 10**(-4)\n",
        "\n",
        "for k in range(1000):\n",
        "  if (  ( (1.5* x**(k+1)) / math.factorial(k+1) ) < epsilon):\n",
        "    break\n",
        "print(k)\n",
        "\n",
        "sin_x = 0\n",
        "for i in range(k+1):\n",
        "    print(i,' ',sin_x, ' delta ', ((-1)**i) *(x**(2*i+1)/math.factorial(2*i+1)))\n",
        "    sin_x += ((-1)**i) *(x**(2*i+1)/math.factorial(2*i+1))\n",
        "    \n",
        "print('math.sin(10) = ',math.sin(10))"
      ],
      "execution_count": 6,
      "outputs": [
        {
          "output_type": "stream",
          "text": [
            "33\n",
            "0   0  delta  10.0\n",
            "1   10.0  delta  -166.66666666666666\n",
            "2   -156.66666666666666  delta  833.3333333333334\n",
            "3   676.6666666666667  delta  -1984.126984126984\n",
            "4   -1307.4603174603174  delta  2755.731922398589\n",
            "5   1448.2716049382718  delta  -2505.210838544172\n",
            "6   -1056.9392336059002  delta  1605.9043836821616\n",
            "7   548.9651500762614  delta  -764.7163731819817\n",
            "8   -215.75122310572033  delta  281.14572543455205\n",
            "9   65.39450232883172  delta  -82.2063524662433\n",
            "10   -16.811850137411582  delta  19.572941063391262\n",
            "11   2.76109092597968  delta  -3.868170170630684\n",
            "12   -1.107079244651004  delta  0.6446950284384474\n",
            "13   -0.46238421621255665  delta  -0.09183689863795547\n",
            "14   -0.5542211148505121  delta  0.011309962886447717\n",
            "15   -0.5429111519640644  delta  -0.001216125041553518\n",
            "16   -0.5441272770056179  delta  0.0001151633562077195\n",
            "17   -0.5440121136494102  delta  -9.677592958631891e-06\n",
            "18   -0.5440217912423688  delta  7.265460179153071e-07\n",
            "19   -0.5440210646963509  delta  -4.9024697565135436e-08\n",
            "20   -0.5440211137210484  delta  2.9893108271424046e-09\n",
            "21   -0.5440211107317376  delta  -1.6552108677421953e-10\n",
            "22   -0.5440211108972587  delta  8.359650847182803e-12\n",
            "23   -0.544021110888899  delta  -3.866628513960594e-13\n",
            "24   -0.5440211108892857  delta  1.643974708316579e-14\n",
            "25   -0.5440211108892693  delta  -6.446959640457173e-16\n",
            "26   -0.54402111088927  delta  2.3392451525606577e-17\n",
            "27   -0.54402111088927  delta  -7.876246304918039e-19\n",
            "28   -0.54402111088927  delta  2.4674957095607893e-20\n",
            "29   -0.54402111088927  delta  -7.210682961895936e-22\n",
            "30   -0.54402111088927  delta  1.9701319568021682e-23\n",
            "31   -0.54402111088927  delta  -5.043860616493006e-25\n",
            "32   -0.54402111088927  delta  1.2124664943492804e-26\n",
            "33   -0.54402111088927  delta  -2.74189618803546e-28\n",
            "math.sin(10) =  -0.5440211108893698\n"
          ],
          "name": "stdout"
        }
      ]
    },
    {
      "cell_type": "code",
      "metadata": {
        "id": "ZmlwI27Cz0cn",
        "colab": {
          "base_uri": "https://localhost:8080/"
        },
        "outputId": "0f7a8547-fbac-4fc4-a985-fa4c17b39af7"
      },
      "source": [
        "x = 10\n",
        "epsilon = 10**(-4)\n",
        "delta = 1\n",
        "sin_x = 0\n",
        "i = 0\n",
        "while  epsilon <= abs(delta):\n",
        "  delta = ((-1)**i) *(x**(2*i+1)/math.factorial(2*i+1))\n",
        "  sin_x += delta\n",
        "  i = i+1\n",
        "\n",
        "print(\"Iteraciones: \", i-1) \n",
        "print('sin_x = ', sin_x)    \n",
        "print('math.sin(10) = ',math.sin(10))"
      ],
      "execution_count": 7,
      "outputs": [
        {
          "output_type": "stream",
          "text": [
            "Iteraciones:  17\n",
            "sin_x =  -0.5440217912423688\n",
            "math.sin(10) =  -0.5440211108893698\n"
          ],
          "name": "stdout"
        }
      ]
    },
    {
      "cell_type": "markdown",
      "metadata": {
        "id": "So60ur5y_EVo"
      },
      "source": [
        "# 📌 $cos(\\:x\\:)$"
      ]
    },
    {
      "cell_type": "markdown",
      "metadata": {
        "id": "MfwhNT8i_P3i"
      },
      "source": [
        "$$cos\\:x\\:=\\:1\\:-\\:\\frac{x^2}{2!}+\\frac{x^4}{4!}-\\cdot \\cdot =\\sum _{k=0}^{\\infty }\\left(-1\\right)^k\\cdot \\frac{x^{2\\cdot k}}{\\left(2\\cdot k\\right)!}\\:$$"
      ]
    },
    {
      "cell_type": "code",
      "metadata": {
        "colab": {
          "base_uri": "https://localhost:8080/"
        },
        "id": "OmQ7znM4_u3_",
        "outputId": "a58c6486-d82f-4a7c-c81a-2693bf802fef"
      },
      "source": [
        "x = 1\n",
        "cos_x = 1 - x**2/math.factorial(2) + x**4/math.factorial(4) - x**6/math.factorial(6) + x**8/math.factorial(8) - x**10/math.factorial(10)\n",
        "print(cos_x)"
      ],
      "execution_count": 8,
      "outputs": [
        {
          "output_type": "stream",
          "text": [
            "0.540302303791887\n"
          ],
          "name": "stdout"
        }
      ]
    },
    {
      "cell_type": "code",
      "metadata": {
        "colab": {
          "base_uri": "https://localhost:8080/"
        },
        "id": "tt7lxA5l_9oD",
        "outputId": "3b759e2e-c66d-4c1e-f731-f446fff5d456"
      },
      "source": [
        "print(math.cos(1))"
      ],
      "execution_count": 9,
      "outputs": [
        {
          "output_type": "stream",
          "text": [
            "0.5403023058681398\n"
          ],
          "name": "stdout"
        }
      ]
    },
    {
      "cell_type": "code",
      "metadata": {
        "colab": {
          "base_uri": "https://localhost:8080/"
        },
        "id": "kmZeiH1hABSW",
        "outputId": "684688f7-5229-494c-eab0-b4d17d4f77d8"
      },
      "source": [
        "x = 1\n",
        "cos_x = 0\n",
        "for i in range(10):\n",
        "    cos_x += ((-1)**i) *(x**(2*i)/math.factorial(2*i))\n",
        "print(cos_x)"
      ],
      "execution_count": 10,
      "outputs": [
        {
          "output_type": "stream",
          "text": [
            "0.5403023058681397\n"
          ],
          "name": "stdout"
        }
      ]
    },
    {
      "cell_type": "markdown",
      "metadata": {
        "id": "Ho7f3GtIAK-k"
      },
      "source": [
        "For the Taylor series for $f(x) = cos(x)$\n",
        "\n",
        "$$ E_n\\:=\\:\\frac{f^{\\left(n+1\\right)}\\left(\\xi \\right)}{\\left(n+1\\right)!}\\left(x-c\\right)^{\\left(n+1\\right)}\\:=\\:\\frac{cos\\left(\\xi \\:\\right)}{\\left(n+1\\right)!}x^{\\left(n+1\\right)}\\:\\le \\:\\:\\frac{cos\\left(x\\right)}{\\left(n+1\\right)!}x^{\\left(n+1\\right)},\\text{ given that } $$\n",
        "\n",
        "\n",
        "If we want $E_n \\le \\epsilon$ then we need $n$ such that because $e^x \\ge e^\\xi$, for  $c=0 \\le \\xi \\le x$ \n",
        "\n",
        "\n",
        "$$ \\frac{cos(x)}{(n+1)!}x^{(n+1)} < \\epsilon$$ \n",
        "\n",
        "because $e^x \\ge e^\\xi$, for  $0 \\le \\xi \\le x$.\n"
      ]
    },
    {
      "cell_type": "code",
      "metadata": {
        "colab": {
          "base_uri": "https://localhost:8080/"
        },
        "id": "Q2I86az0_8UT",
        "outputId": "ad43ee3c-0d4c-4497-de76-6ce26cc370f1"
      },
      "source": [
        "import math\n",
        "\n",
        "x = 1\n",
        "epsilon = 10**(-10)\n",
        "k = 0\n",
        "for k in range(1000):\n",
        "  if (  abs( ((-1)**k) *(x**(2*k)/math.factorial(2*k) )) <= epsilon ):\n",
        "    break\n",
        "print(k)\n",
        "\n",
        "cos_x = 0\n",
        "for i in range(k):\n",
        "    print(i, ' ', cos_x, ' delta ', ((-1)**i) *(x**(2*i)/math.factorial(2*i)))\n",
        "    cos_x += ((-1)**i) * (x**(2*i)/math.factorial(2*i))\n",
        "    \n",
        "print('math.cos(1) = ', math.cos(1))"
      ],
      "execution_count": 56,
      "outputs": [
        {
          "output_type": "stream",
          "text": [
            "7\n",
            "0   0  delta  1.0\n",
            "1   1.0  delta  -0.5\n",
            "2   0.5  delta  0.041666666666666664\n",
            "3   0.5416666666666666  delta  -0.001388888888888889\n",
            "4   0.5402777777777777  delta  2.48015873015873e-05\n",
            "5   0.5403025793650793  delta  -2.755731922398589e-07\n",
            "6   0.540302303791887  delta  2.08767569878681e-09\n",
            "math.cos(1) =  0.5403023058681398\n"
          ],
          "name": "stdout"
        }
      ]
    },
    {
      "cell_type": "code",
      "metadata": {
        "colab": {
          "base_uri": "https://localhost:8080/"
        },
        "id": "TaLKe5LzBtDp",
        "outputId": "f0dda464-eb74-4745-a01b-2ab461b92e56"
      },
      "source": [
        "import math\n",
        "\n",
        "x = 1\n",
        "epsilon = 10**(-4)\n",
        "delta = 1\n",
        "cos_x = 0\n",
        "i = 0\n",
        "while  epsilon <= abs(delta):\n",
        "  delta = ((-1)**i) *(x**(2*i)/math.factorial(2*i))\n",
        "  cos_x += delta\n",
        "  i = i+1\n",
        "\n",
        "print(\"Iteraciones: \", i-1) \n",
        "print('cos_x = ', cos_x)    \n",
        "print('math.cos(1) = ',math.cos(1))"
      ],
      "execution_count": 23,
      "outputs": [
        {
          "output_type": "stream",
          "text": [
            "Iteraciones:  4\n",
            "cos_x =  0.5403025793650793\n",
            "math.cos(1) =  0.5403023058681398\n"
          ],
          "name": "stdout"
        }
      ]
    },
    {
      "cell_type": "markdown",
      "metadata": {
        "id": "L3ETSZ9uCHjG"
      },
      "source": [
        "# 📌 $\\frac{1}{1-x}$"
      ]
    },
    {
      "cell_type": "markdown",
      "metadata": {
        "id": "rH60swamCNGQ"
      },
      "source": [
        "$$\\frac{1}{1-x}=1+x+x^2+x^3+\\cdot \\cdot \\cdot =\\sum _{k=0}^{\\infty }\\:x^k,\\:\\:\\:\\left(\\left|x\\right|\\:<\\:1\\right)\\:$$"
      ]
    },
    {
      "cell_type": "code",
      "metadata": {
        "colab": {
          "base_uri": "https://localhost:8080/"
        },
        "id": "jfNUPcjHCA8H",
        "outputId": "c8f0c819-cbab-4723-d5e9-fee2cb40e522"
      },
      "source": [
        "x = 1/3\n",
        "div_x = 1 + x + x**2 + x**3 + x**4 + x**5 + x**6 + x**7 + x**8 + x**9\n",
        "print(div_x)"
      ],
      "execution_count": 30,
      "outputs": [
        {
          "output_type": "stream",
          "text": [
            "1.4999745973682874\n"
          ],
          "name": "stdout"
        }
      ]
    },
    {
      "cell_type": "code",
      "metadata": {
        "colab": {
          "base_uri": "https://localhost:8080/"
        },
        "id": "iyCO6agVCySK",
        "outputId": "fc768db3-a322-4839-caa4-8b05020910bf"
      },
      "source": [
        "x = 1/3\n",
        "print(1/(1-x))"
      ],
      "execution_count": 29,
      "outputs": [
        {
          "output_type": "stream",
          "text": [
            "1.4999999999999998\n"
          ],
          "name": "stdout"
        }
      ]
    },
    {
      "cell_type": "code",
      "metadata": {
        "colab": {
          "base_uri": "https://localhost:8080/"
        },
        "id": "uHrtePZmDAwr",
        "outputId": "c72729b8-1677-403d-c7dd-2ad7d4e52f89"
      },
      "source": [
        "x = 1/3\n",
        "div_x = 0\n",
        "for i in range(33):\n",
        "    div_x += (x**i)\n",
        "print(div_x)"
      ],
      "execution_count": 36,
      "outputs": [
        {
          "output_type": "stream",
          "text": [
            "1.4999999999999998\n"
          ],
          "name": "stdout"
        }
      ]
    },
    {
      "cell_type": "markdown",
      "metadata": {
        "id": "Q1YtxT-QDUyv"
      },
      "source": [
        "For the Taylor series for $f(x) = \\frac{1}{1-x}$\n",
        "\n",
        "$$ E_n\\:=\\:\\frac{f^{\\left(n+1\\right)}\\left(\\xi \\right)}{\\left(n+1\\right)!}\\left(x-c\\right)^{\\left(n+1\\right)}\\:=\\:\\frac{f\\left(\\xi \\:\\right)}{\\left(n+1\\right)!}x^{\\left(n+1\\right)}\\:\\le \\:\\:\\frac{f\\left(x\\right)}{\\left(n+1\\right)!}x^{\\left(n+1\\right)},\\text{ given that } $$\n",
        "\n",
        "\n",
        "If we want $E_n \\le \\epsilon$ then we need $n$ such that because $e^x \\ge e^\\xi$, for  $c=0 \\le \\xi \\le x$ \n",
        "\n",
        "\n",
        "$$ \\frac{f(x)}{(n+1)!}x^{(n+1)} < \\epsilon$$ \n",
        "\n",
        "because $e^x \\ge e^\\xi$, for  $0 \\le \\xi \\le x$.\n"
      ]
    },
    {
      "cell_type": "code",
      "metadata": {
        "colab": {
          "base_uri": "https://localhost:8080/"
        },
        "id": "4qNoiGkqNfEO",
        "outputId": "7a4b7f5c-21cc-494c-8575-9a658a00d61e"
      },
      "source": [
        "import math\n",
        "\n",
        "def f(x):\n",
        "  return 1/(1-x)\n",
        "\n",
        "x = 1/3\n",
        "epsilon = 10**(-7)\n",
        "k = 0\n",
        "for k in range(1000):\n",
        "  if (  abs( x**k) <= epsilon):\n",
        "    break\n",
        "print(k)\n",
        "\n",
        "f_x = 0\n",
        "for i in range(k):\n",
        "    print(i, ' ', f_x, ' delta ', x**i)\n",
        "    f_x += (x**i)\n",
        "\n",
        "print('1/(1 - (1/3)) = ', f(1/3))"
      ],
      "execution_count": 60,
      "outputs": [
        {
          "output_type": "stream",
          "text": [
            "15\n",
            "0   0  delta  1.0\n",
            "1   1.0  delta  0.3333333333333333\n",
            "2   1.3333333333333333  delta  0.1111111111111111\n",
            "3   1.4444444444444444  delta  0.03703703703703703\n",
            "4   1.4814814814814814  delta  0.012345679012345677\n",
            "5   1.4938271604938271  delta  0.004115226337448558\n",
            "6   1.4979423868312758  delta  0.0013717421124828527\n",
            "7   1.4993141289437586  delta  0.00045724737082761756\n",
            "8   1.4997713763145861  delta  0.0001524157902758725\n",
            "9   1.499923792104862  delta  5.0805263425290837e-05\n",
            "10   1.4999745973682874  delta  1.693508780843028e-05\n",
            "11   1.499991532456096  delta  5.645029269476759e-06\n",
            "12   1.4999971774853655  delta  1.8816764231589195e-06\n",
            "13   1.4999990591617887  delta  6.272254743863065e-07\n",
            "14   1.499999686387263  delta  2.090751581287688e-07\n",
            "1/(1 - (1/3)) =  1.4999999999999998\n"
          ],
          "name": "stdout"
        }
      ]
    },
    {
      "cell_type": "code",
      "metadata": {
        "colab": {
          "base_uri": "https://localhost:8080/"
        },
        "id": "dsIEAp0xO59q",
        "outputId": "3fc5642d-966d-45ec-ad9b-eb1142c4e7a2"
      },
      "source": [
        "import math\n",
        "\n",
        "x = 1/3\n",
        "epsilon = 10**(-7)\n",
        "delta = 1\n",
        "f_x = 0\n",
        "i = 0\n",
        "while  epsilon <= abs(delta):\n",
        "  delta = x**i\n",
        "  f_x += delta\n",
        "  i = i+1\n",
        "\n",
        "print(\"Iteraciones: \", i-1) \n",
        "print('f_x = ', f_x)    \n",
        "print('1/(1 - (1/3)) = ', f(1/3))"
      ],
      "execution_count": 67,
      "outputs": [
        {
          "output_type": "stream",
          "text": [
            "Iteraciones:  15\n",
            "f_x =  1.4999999651541405\n",
            "1/(1 - (1/3)) =  1.4999999999999998\n"
          ],
          "name": "stdout"
        }
      ]
    },
    {
      "cell_type": "markdown",
      "metadata": {
        "id": "9JUb-yxJPVJS"
      },
      "source": [
        "# 📌 $ln(x)$"
      ]
    },
    {
      "cell_type": "markdown",
      "metadata": {
        "id": "L05MZPjyPsMj"
      },
      "source": [
        "$$ln\\left(x\\right)=\\left(x-1\\right)-\\frac{\\left(x-1\\right)^2}{2}+\\frac{\\left(x-1\\right)^3}{3}-\\cdot \\cdot \\cdot =\\sum _{k=1}^{\\infty }\\:\\left(-1\\right)^{k-1}\\cdot \\frac{\\left(x-1\\right)^k}{k}\\:$$"
      ]
    },
    {
      "cell_type": "code",
      "metadata": {
        "colab": {
          "base_uri": "https://localhost:8080/"
        },
        "id": "3--2EPaSPov8",
        "outputId": "ec68ffda-91f5-4b06-c575-e4b60218892e"
      },
      "source": [
        "x = 2\n",
        "log_x = (x-1)-(x-1)**2/(2) + (x-1)**3/(3)-(x-1)**4/(4)+(x-1)**5/(5)-(x-1)**6/(6)+(x-1)**7/(7)\n",
        "print(log_x)"
      ],
      "execution_count": 72,
      "outputs": [
        {
          "output_type": "stream",
          "text": [
            "0.7595238095238095\n"
          ],
          "name": "stdout"
        }
      ]
    },
    {
      "cell_type": "code",
      "metadata": {
        "colab": {
          "base_uri": "https://localhost:8080/"
        },
        "id": "zk9Rkxk5PyUV",
        "outputId": "2768212b-d178-4933-e192-488c180a0c93"
      },
      "source": [
        "x = 2\n",
        "print(math.log(x))"
      ],
      "execution_count": 73,
      "outputs": [
        {
          "output_type": "stream",
          "text": [
            "0.6931471805599453\n"
          ],
          "name": "stdout"
        }
      ]
    },
    {
      "cell_type": "code",
      "metadata": {
        "colab": {
          "base_uri": "https://localhost:8080/"
        },
        "id": "ChZtTc87QNwx",
        "outputId": "5cdf92ea-e6ac-4dff-c08e-b374b3c23f28"
      },
      "source": [
        "x = 2\n",
        "log_x = 0\n",
        "for k in range(1, 10000000):\n",
        "    log_x += (-1)**(k-1) * (x-1)**k/k\n",
        "print(log_x)"
      ],
      "execution_count": 84,
      "outputs": [
        {
          "output_type": "stream",
          "text": [
            "0.6931472305601063\n"
          ],
          "name": "stdout"
        }
      ]
    },
    {
      "cell_type": "markdown",
      "metadata": {
        "id": "q7VyV221Ssif"
      },
      "source": [
        "For the Taylor series for $log(x) = \\frac{1}{1-x}$\n",
        "\n",
        "$$ E_n\\:=\\:\\frac{f^{\\left(n+1\\right)}\\left(\\xi \\right)}{\\left(n+1\\right)!}\\left(x-c\\right)^{\\left(n+1\\right)}\\:=\\:\\frac{log\\left(\\xi \\:\\right)}{\\left(n+1\\right)!}x^{\\left(n+1\\right)}\\:\\le \\:\\:\\frac{log\\left(x\\right)}{\\left(n+1\\right)!}x^{\\left(n+1\\right)},\\text{ given that } $$\n",
        "\n",
        "\n",
        "If we want $E_n \\le \\epsilon$ then we need $n$ such that because $e^x \\ge e^\\xi$, for  $c=0 \\le \\xi \\le x$ \n",
        "\n",
        "\n",
        "$$ \\frac{log(x)}{(n+1)!}x^{(n+1)} < \\epsilon$$ \n",
        "\n",
        "because $e^x \\ge e^\\xi$, for  $0 \\le \\xi \\le x$.\n"
      ]
    },
    {
      "cell_type": "code",
      "metadata": {
        "colab": {
          "base_uri": "https://localhost:8080/"
        },
        "id": "on3ihCovTXh3",
        "outputId": "14f1fcde-e049-45f0-b109-84ef3ca0a295"
      },
      "source": [
        "import math\n",
        "\n",
        "x = 2\n",
        "epsilon = 10**(-2)\n",
        "k = 0\n",
        "for k in range(1, 1000+1):\n",
        "  if (  abs( (-1)**(k-1) * (x-1)**k/k ) <= epsilon):\n",
        "    break\n",
        "print(k)\n",
        "\n",
        "log_x = 0\n",
        "for i in range(1, k+1):\n",
        "    delta = (-1)**(i-1) * (x-1)**i/i\n",
        "    print(i, ' ', log_x, ' delta ', delta)\n",
        "    log_x += delta\n",
        "\n",
        "print('ln(2) = ', math.log(2))"
      ],
      "execution_count": 90,
      "outputs": [
        {
          "output_type": "stream",
          "text": [
            "100\n",
            "1   0  delta  1.0\n",
            "2   1.0  delta  -0.5\n",
            "3   0.5  delta  0.3333333333333333\n",
            "4   0.8333333333333333  delta  -0.25\n",
            "5   0.5833333333333333  delta  0.2\n",
            "6   0.7833333333333332  delta  -0.16666666666666666\n",
            "7   0.6166666666666666  delta  0.14285714285714285\n",
            "8   0.7595238095238095  delta  -0.125\n",
            "9   0.6345238095238095  delta  0.1111111111111111\n",
            "10   0.7456349206349207  delta  -0.1\n",
            "11   0.6456349206349207  delta  0.09090909090909091\n",
            "12   0.7365440115440116  delta  -0.08333333333333333\n",
            "13   0.6532106782106782  delta  0.07692307692307693\n",
            "14   0.7301337551337552  delta  -0.07142857142857142\n",
            "15   0.6587051837051838  delta  0.06666666666666667\n",
            "16   0.7253718503718505  delta  -0.0625\n",
            "17   0.6628718503718505  delta  0.058823529411764705\n",
            "18   0.7216953797836152  delta  -0.05555555555555555\n",
            "19   0.6661398242280596  delta  0.05263157894736842\n",
            "20   0.718771403175428  delta  -0.05\n",
            "21   0.6687714031754279  delta  0.047619047619047616\n",
            "22   0.7163904507944756  delta  -0.045454545454545456\n",
            "23   0.6709359053399302  delta  0.043478260869565216\n",
            "24   0.7144141662094954  delta  -0.041666666666666664\n",
            "25   0.6727474995428288  delta  0.04\n",
            "26   0.7127474995428288  delta  -0.038461538461538464\n",
            "27   0.6742859610812904  delta  0.037037037037037035\n",
            "28   0.7113229981183273  delta  -0.03571428571428571\n",
            "29   0.6756087124040416  delta  0.034482758620689655\n",
            "30   0.7100914710247312  delta  -0.03333333333333333\n",
            "31   0.6767581376913979  delta  0.03225806451612903\n",
            "32   0.7090162022075269  delta  -0.03125\n",
            "33   0.6777662022075269  delta  0.030303030303030304\n",
            "34   0.7080692325105572  delta  -0.029411764705882353\n",
            "35   0.6786574678046748  delta  0.02857142857142857\n",
            "36   0.7072288963761034  delta  -0.027777777777777776\n",
            "37   0.6794511185983256  delta  0.02702702702702703\n",
            "38   0.7064781456253526  delta  -0.02631578947368421\n",
            "39   0.6801623561516684  delta  0.02564102564102564\n",
            "40   0.7058033817926941  delta  -0.025\n",
            "41   0.6808033817926941  delta  0.024390243902439025\n",
            "42   0.7051936256951331  delta  -0.023809523809523808\n",
            "43   0.6813841018856093  delta  0.023255813953488372\n",
            "44   0.7046399158390977  delta  -0.022727272727272728\n",
            "45   0.681912643111825  delta  0.022222222222222223\n",
            "46   0.7041348653340472  delta  -0.021739130434782608\n",
            "47   0.6823957348992646  delta  0.02127659574468085\n",
            "48   0.7036723306439455  delta  -0.020833333333333332\n",
            "49   0.6828389973106122  delta  0.02040816326530612\n",
            "50   0.7032471605759183  delta  -0.02\n",
            "51   0.6832471605759183  delta  0.0196078431372549\n",
            "52   0.7028550037131732  delta  -0.019230769230769232\n",
            "53   0.683624234482404  delta  0.018867924528301886\n",
            "54   0.7024921590107058  delta  -0.018518518518518517\n",
            "55   0.6839736404921873  delta  0.01818181818181818\n",
            "56   0.7021554586740055  delta  -0.017857142857142856\n",
            "57   0.6842983158168626  delta  0.017543859649122806\n",
            "58   0.7018421754659854  delta  -0.017241379310344827\n",
            "59   0.6846007961556405  delta  0.01694915254237288\n",
            "60   0.7015499486980133  delta  -0.016666666666666666\n",
            "61   0.6848832820313466  delta  0.01639344262295082\n",
            "62   0.7012767246542975  delta  -0.016129032258064516\n",
            "63   0.685147692396233  delta  0.015873015873015872\n",
            "64   0.7010207082692488  delta  -0.015625\n",
            "65   0.6853957082692488  delta  0.015384615384615385\n",
            "66   0.7007803236538641  delta  -0.015151515151515152\n",
            "67   0.685628808502349  delta  0.014925373134328358\n",
            "68   0.7005541816366774  delta  -0.014705882352941176\n",
            "69   0.6858482992837363  delta  0.014492753623188406\n",
            "70   0.7003410529069246  delta  -0.014285714285714285\n",
            "71   0.6860553386212104  delta  0.014084507042253521\n",
            "72   0.7001398456634639  delta  -0.013888888888888888\n",
            "73   0.686250956774575  delta  0.0136986301369863\n",
            "74   0.6999495869115613  delta  -0.013513513513513514\n",
            "75   0.6864360733980478  delta  0.013333333333333334\n",
            "76   0.6997694067313811  delta  -0.013157894736842105\n",
            "77   0.686611511994539  delta  0.012987012987012988\n",
            "78   0.699598524981552  delta  -0.01282051282051282\n",
            "79   0.6867780121610392  delta  0.012658227848101266\n",
            "80   0.6994362400091404  delta  -0.0125\n",
            "81   0.6869362400091404  delta  0.012345679012345678\n",
            "82   0.6992819190214861  delta  -0.012195121951219513\n",
            "83   0.6870867970702665  delta  0.012048192771084338\n",
            "84   0.6991349898413509  delta  -0.011904761904761904\n",
            "85   0.687230227936589  delta  0.011764705882352941\n",
            "86   0.698994933818942  delta  -0.011627906976744186\n",
            "87   0.6873670268421977  delta  0.011494252873563218\n",
            "88   0.698861279715761  delta  -0.011363636363636364\n",
            "89   0.6874976433521246  delta  0.011235955056179775\n",
            "90   0.6987335984083044  delta  -0.011111111111111112\n",
            "91   0.6876224872971933  delta  0.01098901098901099\n",
            "92   0.6986114982862043  delta  -0.010869565217391304\n",
            "93   0.6877419330688129  delta  0.010752688172043012\n",
            "94   0.6984946212408559  delta  -0.010638297872340425\n",
            "95   0.6878563233685155  delta  0.010526315789473684\n",
            "96   0.6983826391579893  delta  -0.010416666666666666\n",
            "97   0.6879659724913226  delta  0.010309278350515464\n",
            "98   0.6982752508418381  delta  -0.01020408163265306\n",
            "99   0.688071169209185  delta  0.010101010101010102\n",
            "100   0.698172179310195  delta  -0.01\n",
            "ln(2) =  0.6931471805599453\n"
          ],
          "name": "stdout"
        }
      ]
    },
    {
      "cell_type": "code",
      "metadata": {
        "colab": {
          "base_uri": "https://localhost:8080/"
        },
        "id": "hUnUozkfT-SH",
        "outputId": "a5da75b1-9ff3-49b4-a361-e99c48a099ff"
      },
      "source": [
        "import math\n",
        "\n",
        "x = 2\n",
        "epsilon = 10**(-2)\n",
        "delta = 1\n",
        "log_x = 0\n",
        "i = 1\n",
        "while epsilon <= abs(delta):\n",
        "  delta = (-1)**(i-1) * (x-1)**i/i\n",
        "  log_x += delta\n",
        "  i = i+1\n",
        "\n",
        "print(\"Iteraciones: \", i-2) \n",
        "print('log_x = ', log_x)    \n",
        "print('ln(2) = ', math.log(2))"
      ],
      "execution_count": 95,
      "outputs": [
        {
          "output_type": "stream",
          "text": [
            "Iteraciones:  100\n",
            "log_x =  0.6980731694092049\n",
            "ln(2) =  0.6931471805599453\n"
          ],
          "name": "stdout"
        }
      ]
    },
    {
      "cell_type": "markdown",
      "metadata": {
        "id": "h197lO09UsUh"
      },
      "source": [
        "# 📌 $ln(1+x)$"
      ]
    },
    {
      "cell_type": "markdown",
      "metadata": {
        "id": "qf5tOVMWU2m8"
      },
      "source": [
        "$$ln\\left(1+x\\right)=x-\\frac{x^2}{2}+\\frac{x^3}{3}-\\cdot \\cdot \\cdot =\\sum _{k=1}^{\\infty }\\:\\left(-1\\right)^{k-1}\\cdot \\frac{x^k}{k}\\:$$"
      ]
    },
    {
      "cell_type": "code",
      "metadata": {
        "colab": {
          "base_uri": "https://localhost:8080/"
        },
        "id": "cuM-F-O4U7GD",
        "outputId": "b3b6bfd6-2355-4289-8ae4-1c40bdd9481e"
      },
      "source": [
        "x = 1\n",
        "log_x = x-x**2/(2) + x**3/(3)-x**4/(4)+x**5/(5)-x**6/(6)+x**7/(7)\n",
        "print(log_x)"
      ],
      "execution_count": 97,
      "outputs": [
        {
          "output_type": "stream",
          "text": [
            "0.7595238095238095\n"
          ],
          "name": "stdout"
        }
      ]
    },
    {
      "cell_type": "code",
      "metadata": {
        "colab": {
          "base_uri": "https://localhost:8080/"
        },
        "id": "EtiPzVGkVEa9",
        "outputId": "baacc63c-c76a-4fcc-f161-085f2a0904d2"
      },
      "source": [
        "x = 1\n",
        "print(math.log(1+x))"
      ],
      "execution_count": 99,
      "outputs": [
        {
          "output_type": "stream",
          "text": [
            "0.6931471805599453\n"
          ],
          "name": "stdout"
        }
      ]
    },
    {
      "cell_type": "code",
      "metadata": {
        "colab": {
          "base_uri": "https://localhost:8080/"
        },
        "id": "HLdf_ElxVKFh",
        "outputId": "48a05721-6dc3-4f1d-a415-14d2990f4b2a"
      },
      "source": [
        "x = 1\n",
        "log_x = 0\n",
        "for k in range(1, 10000000):\n",
        "    log_x += (-1)**(k-1) * x**k/k\n",
        "print(log_x)"
      ],
      "execution_count": 101,
      "outputs": [
        {
          "output_type": "stream",
          "text": [
            "0.6931472305601063\n"
          ],
          "name": "stdout"
        }
      ]
    },
    {
      "cell_type": "markdown",
      "metadata": {
        "id": "L-9W0YO6VYLf"
      },
      "source": [
        "For the Taylor series for $log(1+x) = \\frac{1}{1-x}$\n",
        "\n",
        "$$ E_n\\:=\\:\\frac{f^{\\left(n+1\\right)}\\left(\\xi \\right)}{\\left(n+1\\right)!}\\left(x-c\\right)^{\\left(n+1\\right)}\\:=\\:\\frac{log\\left(1+\\xi \\:\\right)}{\\left(n+1\\right)!}x^{\\left(n+1\\right)}\\:\\le \\:\\:\\frac{log\\left(1+x\\right)}{\\left(n+1\\right)!}x^{\\left(n+1\\right)},\\text{ given that } $$\n",
        "\n",
        "\n",
        "If we want $E_n \\le \\epsilon$ then we need $n$ such that because $e^x \\ge e^\\xi$, for  $c=0 \\le \\xi \\le x$ \n",
        "\n",
        "\n",
        "$$ \\frac{log(1+x)}{(n+1)!}x^{(n+1)} < \\epsilon$$ \n",
        "\n",
        "because $e^x \\ge e^\\xi$, for  $0 \\le \\xi \\le x$.\n"
      ]
    },
    {
      "cell_type": "code",
      "metadata": {
        "colab": {
          "base_uri": "https://localhost:8080/"
        },
        "id": "rf6sQVM-VVua",
        "outputId": "2958d6a0-2cf3-4184-e032-8f93ae6aed14"
      },
      "source": [
        "import math\n",
        "\n",
        "x = 1\n",
        "epsilon = 10**(-2)\n",
        "k = 0\n",
        "for k in range(1, 1000+1):\n",
        "  if (  abs( (-1)**(k-1) * x**k/k ) <= epsilon):\n",
        "    break\n",
        "print(k)\n",
        "\n",
        "log_x = 0\n",
        "for i in range(1, k+1):\n",
        "    delta = (-1)**(i-1) * x**i/i\n",
        "    print(i, ' ', log_x, ' delta ', delta)\n",
        "    log_x += delta\n",
        "\n",
        "print('ln(1+1) = ', math.log(1+1))"
      ],
      "execution_count": 106,
      "outputs": [
        {
          "output_type": "stream",
          "text": [
            "100\n",
            "1   0  delta  1.0\n",
            "2   1.0  delta  -0.5\n",
            "3   0.5  delta  0.3333333333333333\n",
            "4   0.8333333333333333  delta  -0.25\n",
            "5   0.5833333333333333  delta  0.2\n",
            "6   0.7833333333333332  delta  -0.16666666666666666\n",
            "7   0.6166666666666666  delta  0.14285714285714285\n",
            "8   0.7595238095238095  delta  -0.125\n",
            "9   0.6345238095238095  delta  0.1111111111111111\n",
            "10   0.7456349206349207  delta  -0.1\n",
            "11   0.6456349206349207  delta  0.09090909090909091\n",
            "12   0.7365440115440116  delta  -0.08333333333333333\n",
            "13   0.6532106782106782  delta  0.07692307692307693\n",
            "14   0.7301337551337552  delta  -0.07142857142857142\n",
            "15   0.6587051837051838  delta  0.06666666666666667\n",
            "16   0.7253718503718505  delta  -0.0625\n",
            "17   0.6628718503718505  delta  0.058823529411764705\n",
            "18   0.7216953797836152  delta  -0.05555555555555555\n",
            "19   0.6661398242280596  delta  0.05263157894736842\n",
            "20   0.718771403175428  delta  -0.05\n",
            "21   0.6687714031754279  delta  0.047619047619047616\n",
            "22   0.7163904507944756  delta  -0.045454545454545456\n",
            "23   0.6709359053399302  delta  0.043478260869565216\n",
            "24   0.7144141662094954  delta  -0.041666666666666664\n",
            "25   0.6727474995428288  delta  0.04\n",
            "26   0.7127474995428288  delta  -0.038461538461538464\n",
            "27   0.6742859610812904  delta  0.037037037037037035\n",
            "28   0.7113229981183273  delta  -0.03571428571428571\n",
            "29   0.6756087124040416  delta  0.034482758620689655\n",
            "30   0.7100914710247312  delta  -0.03333333333333333\n",
            "31   0.6767581376913979  delta  0.03225806451612903\n",
            "32   0.7090162022075269  delta  -0.03125\n",
            "33   0.6777662022075269  delta  0.030303030303030304\n",
            "34   0.7080692325105572  delta  -0.029411764705882353\n",
            "35   0.6786574678046748  delta  0.02857142857142857\n",
            "36   0.7072288963761034  delta  -0.027777777777777776\n",
            "37   0.6794511185983256  delta  0.02702702702702703\n",
            "38   0.7064781456253526  delta  -0.02631578947368421\n",
            "39   0.6801623561516684  delta  0.02564102564102564\n",
            "40   0.7058033817926941  delta  -0.025\n",
            "41   0.6808033817926941  delta  0.024390243902439025\n",
            "42   0.7051936256951331  delta  -0.023809523809523808\n",
            "43   0.6813841018856093  delta  0.023255813953488372\n",
            "44   0.7046399158390977  delta  -0.022727272727272728\n",
            "45   0.681912643111825  delta  0.022222222222222223\n",
            "46   0.7041348653340472  delta  -0.021739130434782608\n",
            "47   0.6823957348992646  delta  0.02127659574468085\n",
            "48   0.7036723306439455  delta  -0.020833333333333332\n",
            "49   0.6828389973106122  delta  0.02040816326530612\n",
            "50   0.7032471605759183  delta  -0.02\n",
            "51   0.6832471605759183  delta  0.0196078431372549\n",
            "52   0.7028550037131732  delta  -0.019230769230769232\n",
            "53   0.683624234482404  delta  0.018867924528301886\n",
            "54   0.7024921590107058  delta  -0.018518518518518517\n",
            "55   0.6839736404921873  delta  0.01818181818181818\n",
            "56   0.7021554586740055  delta  -0.017857142857142856\n",
            "57   0.6842983158168626  delta  0.017543859649122806\n",
            "58   0.7018421754659854  delta  -0.017241379310344827\n",
            "59   0.6846007961556405  delta  0.01694915254237288\n",
            "60   0.7015499486980133  delta  -0.016666666666666666\n",
            "61   0.6848832820313466  delta  0.01639344262295082\n",
            "62   0.7012767246542975  delta  -0.016129032258064516\n",
            "63   0.685147692396233  delta  0.015873015873015872\n",
            "64   0.7010207082692488  delta  -0.015625\n",
            "65   0.6853957082692488  delta  0.015384615384615385\n",
            "66   0.7007803236538641  delta  -0.015151515151515152\n",
            "67   0.685628808502349  delta  0.014925373134328358\n",
            "68   0.7005541816366774  delta  -0.014705882352941176\n",
            "69   0.6858482992837363  delta  0.014492753623188406\n",
            "70   0.7003410529069246  delta  -0.014285714285714285\n",
            "71   0.6860553386212104  delta  0.014084507042253521\n",
            "72   0.7001398456634639  delta  -0.013888888888888888\n",
            "73   0.686250956774575  delta  0.0136986301369863\n",
            "74   0.6999495869115613  delta  -0.013513513513513514\n",
            "75   0.6864360733980478  delta  0.013333333333333334\n",
            "76   0.6997694067313811  delta  -0.013157894736842105\n",
            "77   0.686611511994539  delta  0.012987012987012988\n",
            "78   0.699598524981552  delta  -0.01282051282051282\n",
            "79   0.6867780121610392  delta  0.012658227848101266\n",
            "80   0.6994362400091404  delta  -0.0125\n",
            "81   0.6869362400091404  delta  0.012345679012345678\n",
            "82   0.6992819190214861  delta  -0.012195121951219513\n",
            "83   0.6870867970702665  delta  0.012048192771084338\n",
            "84   0.6991349898413509  delta  -0.011904761904761904\n",
            "85   0.687230227936589  delta  0.011764705882352941\n",
            "86   0.698994933818942  delta  -0.011627906976744186\n",
            "87   0.6873670268421977  delta  0.011494252873563218\n",
            "88   0.698861279715761  delta  -0.011363636363636364\n",
            "89   0.6874976433521246  delta  0.011235955056179775\n",
            "90   0.6987335984083044  delta  -0.011111111111111112\n",
            "91   0.6876224872971933  delta  0.01098901098901099\n",
            "92   0.6986114982862043  delta  -0.010869565217391304\n",
            "93   0.6877419330688129  delta  0.010752688172043012\n",
            "94   0.6984946212408559  delta  -0.010638297872340425\n",
            "95   0.6878563233685155  delta  0.010526315789473684\n",
            "96   0.6983826391579893  delta  -0.010416666666666666\n",
            "97   0.6879659724913226  delta  0.010309278350515464\n",
            "98   0.6982752508418381  delta  -0.01020408163265306\n",
            "99   0.688071169209185  delta  0.010101010101010102\n",
            "100   0.698172179310195  delta  -0.01\n",
            "ln(1+1) =  0.6931471805599453\n"
          ],
          "name": "stdout"
        }
      ]
    },
    {
      "cell_type": "code",
      "metadata": {
        "colab": {
          "base_uri": "https://localhost:8080/"
        },
        "id": "-9HZXJpPVpYq",
        "outputId": "0e137bcc-5646-4abc-a1c1-d9c2f13fb697"
      },
      "source": [
        "import math\n",
        "\n",
        "x = 1\n",
        "epsilon = 10**(-2)\n",
        "delta = 1\n",
        "log_x = 0\n",
        "i = 1\n",
        "while epsilon <= abs(delta):\n",
        "  delta = (-1)**(i-1) * (x**i)/i\n",
        "  log_x += delta\n",
        "  i = i+1\n",
        "\n",
        "print(\"Iteraciones: \", i-2) \n",
        "print('log_x = ', log_x)    \n",
        "print('ln(1+1) = ', math.log(1+1))"
      ],
      "execution_count": 107,
      "outputs": [
        {
          "output_type": "stream",
          "text": [
            "Iteraciones:  100\n",
            "log_x =  0.6980731694092049\n",
            "ln(1+1) =  0.6931471805599453\n"
          ],
          "name": "stdout"
        }
      ]
    }
  ]
}