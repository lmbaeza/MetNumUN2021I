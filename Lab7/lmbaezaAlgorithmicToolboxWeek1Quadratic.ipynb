{
  "nbformat": 4,
  "nbformat_minor": 0,
  "metadata": {
    "colab": {
      "name": "Untitled0.ipynb",
      "provenance": []
    },
    "kernelspec": {
      "name": "python3",
      "display_name": "Python 3"
    },
    "language_info": {
      "name": "python"
    }
  },
  "cells": [
    {
      "cell_type": "markdown",
      "metadata": {
        "id": "4TD1_1CI5g8I"
      },
      "source": [
        "# LAB7  Introduction to numerical analysis – Week 1 – Peer-graded Assignment: Solve a quadratic equation\n",
        "\n",
        "**Universidad Nacional de Colombia - Sede Bogotá**\n",
        " \n",
        " _**Metodos Numericos**_\n",
        "\n",
        " **Docente:** German Hernandez\n",
        "\n",
        " **Estudiantes:**\n",
        " * Luis Miguel Báez Aponte - lmbaeza@unal.edu.co"
      ]
    },
    {
      "cell_type": "code",
      "metadata": {
        "id": "KySsIDp24-HT"
      },
      "source": [
        "import math\n",
        "\n",
        "def my_sqrt(a, b, c):\n",
        "  if (a==0 and b==0 and c==0):\n",
        "      print(-1)\n",
        "  elif(a==0 and b==0 and c!=0):\n",
        "      print(0)\n",
        "  elif (a==0 and b!=0):\n",
        "      print(1)\n",
        "      print(-c/b)\n",
        "  elif (b*b-4*a*c<0):\n",
        "      print(0)\n",
        "  elif (b*b-4*a*c==0):\n",
        "      print(1)\n",
        "      print((-b/(2*a)))\n",
        "  else:\n",
        "      print(2)\n",
        "      d=(-b+math.sqrt(b*b-4*a*c))/(2*a)\n",
        "      e=(-b-math.sqrt(b*b-4*a*c))/(2*a)\n",
        "      print(min(e,d))\n",
        "      print(max(e,d))"
      ],
      "execution_count": 4,
      "outputs": []
    },
    {
      "cell_type": "code",
      "metadata": {
        "id": "-xtgFHLM7Hbx"
      },
      "source": [
        "values = [{'a': 1.0, 'b': 8.0, 'c': 3.0},\n",
        "            {'a': 2.0, 'b': 6.0, 'c': 2.0},\n",
        "            {'a': 3.0, 'b': 4.5, 'c': 3.0},\n",
        "            {'a': 4.0, 'b': 210, 'c': 6.0},\n",
        "            {'a': 5.0, 'b': 160, 'c': 7.0},]"
      ],
      "execution_count": 5,
      "outputs": []
    },
    {
      "cell_type": "code",
      "metadata": {
        "colab": {
          "base_uri": "https://localhost:8080/"
        },
        "id": "0OyriwqW7IPF",
        "outputId": "e68a2745-b09e-4438-e981-d7f116bb2d62"
      },
      "source": [
        "for val in values:\n",
        "  print(\"Values: \")\n",
        "  my_sqrt(val['a'], val['b'], val['c'])\n",
        "  print()"
      ],
      "execution_count": 8,
      "outputs": [
        {
          "output_type": "stream",
          "text": [
            "Values: \n",
            "2\n",
            "-7.60555127546399\n",
            "-0.3944487245360109\n",
            "\n",
            "Values: \n",
            "2\n",
            "-2.618033988749895\n",
            "-0.3819660112501051\n",
            "\n",
            "Values: \n",
            "0\n",
            "\n",
            "Values: \n",
            "2\n",
            "-52.47141300540457\n",
            "-0.028586994595428905\n",
            "\n",
            "Values: \n",
            "2\n",
            "-31.95619002143055\n",
            "-0.043809978569444755\n",
            "\n"
          ],
          "name": "stdout"
        }
      ]
    }
  ]
}