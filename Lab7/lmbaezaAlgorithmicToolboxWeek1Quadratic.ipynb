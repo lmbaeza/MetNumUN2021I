{
  "nbformat": 4,
  "nbformat_minor": 0,
  "metadata": {
    "colab": {
      "name": "Untitled0.ipynb",
      "provenance": []
    },
    "kernelspec": {
      "name": "python3",
      "display_name": "Python 3"
    },
    "language_info": {
      "name": "python"
    }
  },
  "cells": [
    {
      "cell_type": "markdown",
      "metadata": {
        "id": "4TD1_1CI5g8I"
      },
      "source": [
        "# LAB7  Introduction to numerical analysis – Week 1 – Peer-graded Assignment: Solve a quadratic equation\n",
        "\n",
        "**Universidad Nacional de Colombia - Sede Bogotá**\n",
        " \n",
        " _**Metodos Numericos**_\n",
        "\n",
        " **Docente:** German Hernandez\n",
        "\n",
        " **Estudiantes:**\n",
        " * Luis Miguel Báez Aponte - lmbaeza@unal.edu.co"
      ]
    },
    {
      "cell_type": "code",
      "metadata": {
        "colab": {
          "base_uri": "https://localhost:8080/"
        },
        "id": "KySsIDp24-HT",
        "outputId": "5d494ee2-7da0-46c4-a5e5-cd7f3538820a"
      },
      "source": [
        "import math\n",
        "\n",
        "a, b, c= 1, -5, 6\n",
        "\n",
        "if (a==0 and b==0 and c==0):\n",
        "    print(-1)\n",
        "elif(a==0 and b==0 and c!=0):\n",
        "    print(0)\n",
        "elif (a==0 and b!=0):\n",
        "    print(1)\n",
        "    print(-c/b)\n",
        "elif (b*b-4*a*c<0):\n",
        "    print(0)\n",
        "elif (b*b-4*a*c==0):\n",
        "    print(1)\n",
        "    print((-b/(2*a)))\n",
        "else:\n",
        "    print(2)\n",
        "    d=(-b+math.sqrt(b*b-4*a*c))/(2*a)\n",
        "    e=(-b-math.sqrt(b*b-4*a*c))/(2*a)\n",
        "    print(min(e,d))\n",
        "    print(max(e,d))"
      ],
      "execution_count": 3,
      "outputs": [
        {
          "output_type": "stream",
          "text": [
            "2\n",
            "2.0\n",
            "3.0\n"
          ],
          "name": "stdout"
        }
      ]
    }
  ]
}